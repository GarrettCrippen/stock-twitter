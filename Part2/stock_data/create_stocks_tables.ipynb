{
 "cells": [
  {
   "cell_type": "code",
   "execution_count": 88,
   "id": "3c47d580-ac66-47a6-acc4-e883d5de0c6b",
   "metadata": {},
   "outputs": [],
   "source": [
    "import re\n",
    "from typing import List\n",
    "\n",
    "from pyspark.sql import SparkSession, DataFrame\n",
    "from pyspark.sql.functions import explode, udf, size, col, concat_ws, to_date, to_timestamp, date_trunc, count, array_contains, month, dayofmonth, hour, explode_outer\n",
    "from pyspark.sql.types import StringType, ArrayType, Row"
   ]
  },
  {
   "cell_type": "code",
   "execution_count": 40,
   "id": "d3673daf-7a97-4664-8868-4551d42ee9db",
   "metadata": {},
   "outputs": [],
   "source": [
    "spark = SparkSession.builder.appName('practice').config('spark.jars.packages', 'mysql:mysql-connector-java:8.0.30').master(\n",
    "    \"local\").getOrCreate()"
   ]
  },
  {
   "cell_type": "code",
   "execution_count": 65,
   "id": "8dd765da-c5db-4867-8b32-22b6a98f9248",
   "metadata": {},
   "outputs": [],
   "source": [
    "def write_db(save_df: DataFrame, table_name: str, mode=\"overwrite\"):\n",
    "    save_df.write.format(\"jdbc\") \\\n",
    "        .mode(mode) \\\n",
    "        .option(\"url\", \"jdbc:mysql://127.0.0.1:3306/cs179g\") \\\n",
    "        .option(\"driver\", \"com.mysql.cj.jdbc.Driver\") \\\n",
    "        .option(\"dbtable\", f\"{table_name}\") \\\n",
    "        .option(\"user\", \"group6\") \\\n",
    "        .option(\"batchsize\", \"100000\") \\\n",
    "        .option(\"password\", \"grp6\").save()"
   ]
  },
  {
   "cell_type": "code",
   "execution_count": 77,
   "id": "f969c672-f22e-4a88-a97a-fcc0ac78a4ca",
   "metadata": {},
   "outputs": [],
   "source": [
    "stocks_monthly_df: DataFrame = spark.read \\\n",
    "    .option(\"multiLine\", \"true\") \\\n",
    "    .option(\"mode\", \"PERMISSIVE\") \\\n",
    "    .json(\"stock_jsons/stocks_monthly*\")"
   ]
  },
  {
   "cell_type": "code",
   "execution_count": 42,
   "id": "ba78942e-ed22-44f5-b2f2-2af887548b1a",
   "metadata": {},
   "outputs": [
    {
     "name": "stdout",
     "output_type": "stream",
     "text": [
      "root\n",
      " |-- close: double (nullable = true)\n",
      " |-- date: string (nullable = true)\n",
      " |-- high: double (nullable = true)\n",
      " |-- low: double (nullable = true)\n",
      " |-- open: double (nullable = true)\n",
      " |-- ticker: string (nullable = true)\n",
      " |-- transactions: long (nullable = true)\n",
      " |-- volume: double (nullable = true)\n",
      " |-- vwap: double (nullable = true)\n",
      "\n"
     ]
    }
   ],
   "source": [
    "stocks_monthly_df.printSchema()"
   ]
  },
  {
   "cell_type": "code",
   "execution_count": 56,
   "id": "90e9f6c0-1620-4b4d-bb50-ed47416691c2",
   "metadata": {},
   "outputs": [],
   "source": [
    "stocks_monthly_df=stocks_monthly_df.withColumn('date',to_date('date'))\n",
    "stocks_monthly_df=stocks_monthly_df.withColumn('month',month('date')).withColumn('day',dayofmonth('date')).drop('date')\n",
    "stocks_monthly_df.count()"
   ]
  },
  {
   "cell_type": "code",
   "execution_count": 66,
   "id": "2799ce67-0cba-4921-aa7e-fdb1c373e870",
   "metadata": {},
   "outputs": [
    {
     "name": "stderr",
     "output_type": "stream",
     "text": [
      "                                                                                \r"
     ]
    }
   ],
   "source": [
    "#write_db(stocks_monthly_df,'stocks_monthly')"
   ]
  },
  {
   "cell_type": "code",
   "execution_count": 89,
   "id": "349ad565-ccfd-4b03-a6a8-10bcdb891d74",
   "metadata": {},
   "outputs": [],
   "source": [
    "stocks_hourly_df: DataFrame = spark.read \\\n",
    "    .option(\"multiLine\", \"true\") \\\n",
    "    .option(\"mode\", \"PERMISSIVE\") \\\n",
    "    .json(\"stock_jsons/stocks_hourly*\")"
   ]
  },
  {
   "cell_type": "code",
   "execution_count": 80,
   "id": "9738ffab-82d2-4773-89f0-708fda8d15f3",
   "metadata": {},
   "outputs": [
    {
     "name": "stdout",
     "output_type": "stream",
     "text": [
      "root\n",
      " |-- close: double (nullable = true)\n",
      " |-- date: string (nullable = true)\n",
      " |-- high: double (nullable = true)\n",
      " |-- low: double (nullable = true)\n",
      " |-- open: double (nullable = true)\n",
      " |-- ticker: string (nullable = true)\n",
      " |-- time: string (nullable = true)\n",
      " |-- volume: double (nullable = true)\n",
      "\n"
     ]
    }
   ],
   "source": [
    "stocks_hourly_df.printSchema()"
   ]
  },
  {
   "cell_type": "code",
   "execution_count": 90,
   "id": "46e1c692-3d18-4180-b2ef-3979d697e3c6",
   "metadata": {},
   "outputs": [],
   "source": [
    "stocks_hourly_df=stocks_hourly_df.withColumn('date',to_date('date'))\n",
    "stocks_hourly_df=stocks_hourly_df.withColumn('month',month('date')).withColumn('day',dayofmonth('date')).drop('date')\n",
    "stocks_hourly_df=stocks_hourly_df.withColumn('time',hour('time')).withColumnRenamed('time','hour')"
   ]
  },
  {
   "cell_type": "code",
   "execution_count": 94,
   "id": "48e1f9e7-ef67-4902-8dc9-2b7a770b0e58",
   "metadata": {},
   "outputs": [
    {
     "name": "stderr",
     "output_type": "stream",
     "text": [
      "                                                                                \r"
     ]
    }
   ],
   "source": [
    "#write_db(stocks_hourly_df,'stocks_hourly')"
   ]
  }
 ],
 "metadata": {
  "kernelspec": {
   "display_name": "Python 3 (ipykernel)",
   "language": "python",
   "name": "python3"
  },
  "language_info": {
   "codemirror_mode": {
    "name": "ipython",
    "version": 3
   },
   "file_extension": ".py",
   "mimetype": "text/x-python",
   "name": "python",
   "nbconvert_exporter": "python",
   "pygments_lexer": "ipython3",
   "version": "3.10.6"
  }
 },
 "nbformat": 4,
 "nbformat_minor": 5
}
