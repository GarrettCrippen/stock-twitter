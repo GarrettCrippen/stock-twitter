{
 "cells": [
  {
   "cell_type": "code",
   "execution_count": 1,
   "id": "a8c6f062-bd34-4859-9859-1720df375515",
   "metadata": {},
   "outputs": [
    {
     "name": "stdout",
     "output_type": "stream",
     "text": [
      "((\\$|\\#|\\＃)(AAPL|MSFT|AMZN|TSLA|GOOG|GOOGL|META|NVDA|PEP|COST|AVGO|CSCO|TMUS|ADBE|TXN|CMCSA|AMGN|QCOM|NFLX|HON|INTU|INTC|SBUX|PYPL|ADP|AMD|GILD|MDLZ|REGN|ISRG|VRTX|ADI|BKNG|AMAT|FISV|CSX|MU|ATVI|KDP|CHTR|MAR|MRNA|PANW|ORLY|ABNB|MNST|LRCX|KHC|SNPS|AEP|ADSK|CDNS|MELI|CTAS|FTNT|PAYX|KLAC|BIIB|DXCM|NXPI|EXC|ASML|LULU|EA|XEL|MCHP|CRWD|MRVL|AZN|ILMN|PCAR|DLTR|CTSH|WDAY|ROST|ODFL|WBA|CEG|IDXX|TEAM|VRSK|FAST|CPRT|PDD|SGEN|SIRI|DDOG|LCID|ZS|JD|EBAY|VRSN|ZM|ANSS|BIDU|ALGN|SWKS|MTCH|SPLK|NTES|DOCU|OKTA)(?![a-z|A-Z]))\n"
     ]
    }
   ],
   "source": [
    "# Identifying tweets by the stock they are talking about before we drop the tweets in the conversation.\n",
    "# Ctrl+f \"Wyatt\" to see my comments on the code.\n",
    "import warnings\n",
    "from time import time\n",
    "import re\n",
    "from typing import List\n",
    "\n",
    "from pyspark.sql import SparkSession, DataFrame\n",
    "from pyspark.sql.functions import explode, udf, size, col, concat_ws, to_date, to_timestamp, date_trunc, count, array_contains, month, dayofmonth, hour, explode_outer\n",
    "from pyspark.sql.types import StringType, ArrayType, Row\n",
    "\n",
    "stocks = [\"AAPL\", \"MSFT\", \"AMZN\", \"TSLA\", \"GOOG\", \"GOOGL\", \"META\", \"NVDA\", \"PEP\", \"COST\", \"AVGO\", \"CSCO\", \"TMUS\",\n",
    "          \"ADBE\", \"TXN\", \"CMCSA\", \"AMGN\", \"QCOM\", \"NFLX\", \"HON\", \"INTU\", \"INTC\", \"SBUX\", \"PYPL\", \"ADP\", \"AMD\",\n",
    "          \"GILD\", \"MDLZ\", \"REGN\", \"ISRG\", \"VRTX\", \"ADI\", \"BKNG\", \"AMAT\", \"FISV\", \"CSX\", \"MU\", \"ATVI\", \"KDP\", \"CHTR\",\n",
    "          \"MAR\", \"MRNA\", \"PANW\", \"ORLY\", \"ABNB\", \"MNST\", \"LRCX\", \"KHC\", \"SNPS\", \"AEP\", \"ADSK\", \"CDNS\", \"MELI\",\n",
    "          \"CTAS\", \"FTNT\", \"PAYX\", \"KLAC\", \"BIIB\", \"DXCM\", \"NXPI\", \"EXC\", \"ASML\", \"LULU\", \"EA\", \"XEL\", \"MCHP\",\n",
    "          \"CRWD\", \"MRVL\", \"AZN\", \"ILMN\", \"PCAR\", \"DLTR\", \"CTSH\", \"WDAY\", \"ROST\", \"ODFL\", \"WBA\", \"CEG\", \"IDXX\",\n",
    "          \"TEAM\", \"VRSK\", \"FAST\", \"CPRT\", \"PDD\", \"SGEN\", \"SIRI\", \"DDOG\", \"LCID\", \"ZS\", \"JD\", \"EBAY\", \"VRSN\", \"ZM\",\n",
    "          \"ANSS\", \"BIDU\", \"ALGN\", \"SWKS\", \"MTCH\", \"SPLK\", \"NTES\", \"DOCU\", \"OKTA\"]\n",
    "\n",
    "cashtag_extract = \"\\$(?!((AAPL|MSFT|AMZN|TSLA|GOOG|GOOGL|META|NVDA|PEP|COST|AVGO|CSCO|TMUS|ADBE|TXN|CMCSA|AMGN|QCOM|NFLX|HON|INTU|INTC|SBUX|PYPL|ADP|AMD|GILD|MDLZ|REGN|ISRG|VRTX|ADI|BKNG|AMAT|FISV|CSX|MU|ATVI|KDP|CHTR|MAR|MRNA|PANW|ORLY|ABNB|MNST|LRCX|KHC|SNPS|AEP|ADSK|CDNS|MELI|CTAS|FTNT|PAYX|KLAC|BIIB|DXCM|NXPI|EXC|ASML|LULU|EA|XEL|MCHP|CRWD|MRVL|AZN|ILMN|PCAR|DLTR|CTSH|WDAY|ROST|ODFL|WBA|CEG|IDXX|TEAM|VRSK|FAST|CPRT|PDD|SGEN|SIRI|DDOG|LCID|ZS|JD|EBAY|VRSN|ZM|ANSS|BIDU|ALGN|SWKS|MTCH|SPLK|NTES|DOCU|OKTA)(?![a-z|A-Z])))\\w+\"\n",
    "hashtag_extract = \"\\#(?!((AAPL|MSFT|AMZN|TSLA|GOOG|GOOGL|META|NVDA|PEP|COST|AVGO|CSCO|TMUS|ADBE|TXN|CMCSA|AMGN|QCOM|NFLX|HON|INTU|INTC|SBUX|PYPL|ADP|AMD|GILD|MDLZ|REGN|ISRG|VRTX|ADI|BKNG|AMAT|FISV|CSX|MU|ATVI|KDP|CHTR|MAR|MRNA|PANW|ORLY|ABNB|MNST|LRCX|KHC|SNPS|AEP|ADSK|CDNS|MELI|CTAS|FTNT|PAYX|KLAC|BIIB|DXCM|NXPI|EXC|ASML|LULU|EA|XEL|MCHP|CRWD|MRVL|AZN|ILMN|PCAR|DLTR|CTSH|WDAY|ROST|ODFL|WBA|CEG|IDXX|TEAM|VRSK|FAST|CPRT|PDD|SGEN|SIRI|DDOG|LCID|ZS|JD|EBAY|VRSN|ZM|ANSS|BIDU|ALGN|SWKS|MTCH|SPLK|NTES|DOCU|OKTA)(?![a-z|A-Z])))\\w+\"\n",
    "\n",
    "\n",
    "def make_regex():\n",
    "    regex = \"((\\$|\\#|\\＃)(\"\n",
    "    for stock in stocks:\n",
    "        regex = regex + stock + \"|\"\n",
    "    regex = regex[:-1]\n",
    "    regex = regex + \")(?![a-z|A-Z]))\"\n",
    "    return regex\n",
    "\n",
    "\n",
    "ticker_matcher = make_regex()\n",
    "print(ticker_matcher)\n",
    "ticker_matcher = re.compile(ticker_matcher, re.IGNORECASE)\n",
    "\n",
    "\n",
    "def write_db(save_df: DataFrame, table_name: str, mode=\"overwrite\"):\n",
    "    save_df.write.format(\"jdbc\") \\\n",
    "        .mode(mode) \\\n",
    "        .option(\"url\", \"jdbc:mysql://127.0.0.1:3306/cs179g\") \\\n",
    "        .option(\"driver\", \"com.mysql.cj.jdbc.Driver\") \\\n",
    "        .option(\"dbtable\", f\"{table_name}\") \\\n",
    "        .option(\"user\", \"group6\") \\\n",
    "        .option(\"batchsize\", \"100000\") \\\n",
    "        .option(\"password\", \"grp6\").save()\n",
    "\n",
    "\n",
    "def extract_cash_tags(col_value: str) -> list[str]:\n",
    "    return list(map(lambda x: str(x).upper(), re.findall(r\"$(\\w+)\", col_value))) if col_value else []\n",
    "\n",
    "\n",
    "def extract_hash_tags(col_value: str) -> list[str]:\n",
    "    return list(map(lambda x: str(x).upper(), re.findall(r\"#(\\w+)\", col_value))) if col_value else []\n",
    "\n",
    "\n",
    "def tweets_to_tickers(tweets, baseTweetText) -> list[str]:\n",
    "    if tweets is None:\n",
    "        return None\n",
    "    if baseTweetText is None:\n",
    "        return None\n",
    "    tweets_text = baseTweetText\n",
    "    # print(f\"\\nBase tweet's text:{tweets_text}\")\n",
    "    for item in tweets:\n",
    "        tweets_text = tweets_text + \"     \" + item.text\n",
    "    tweets_text = tweets_text + \" \"\n",
    "    # print(f\"\\nConversation's text:{tweets_text}\")\n",
    "\n",
    "    stockList = ticker_matcher.findall(tweets_text)\n",
    "    _stockList = []\n",
    "    stockListEmpty = 1\n",
    "    for item in stockList:\n",
    "        _stockList.append(item[2].upper())\n",
    "        stockListEmpty = 0\n",
    "    stockList = [*set(_stockList)]\n",
    "    stockList.sort()\n",
    "    if stockListEmpty:\n",
    "        print(f\"\\n\\nStockList empty!:\\n\\n{tweets_text}\\n\\n\")\n",
    "    # print(stockList)\n",
    "    return stockList\n",
    "\n",
    "\n",
    "tweets_to_tickers_UDF = udf(\n",
    "    lambda x, y: tweets_to_tickers(x, y), ArrayType(StringType()))\n",
    "\n",
    "\n",
    "\n"
   ]
  },
  {
   "cell_type": "code",
   "execution_count": 5,
   "id": "07afe30a-d2af-4340-b9e1-a02d4787c203",
   "metadata": {},
   "outputs": [
    {
     "name": "stdout",
     "output_type": "stream",
     "text": [
      "22/11/22 04:50:41 WARN SparkContext: Another SparkContext is being constructed (or threw an exception in its constructor). This may indicate an error, since only one SparkContext should be running in this JVM (see SPARK-2243). The other SparkContext was created at:\n",
      "org.apache.spark.api.java.JavaSparkContext.<init>(JavaSparkContext.scala:58)\n",
      "sun.reflect.NativeConstructorAccessorImpl.newInstance0(Native Method)\n",
      "sun.reflect.NativeConstructorAccessorImpl.newInstance(NativeConstructorAccessorImpl.java:62)\n",
      "sun.reflect.DelegatingConstructorAccessorImpl.newInstance(DelegatingConstructorAccessorImpl.java:45)\n",
      "java.lang.reflect.Constructor.newInstance(Constructor.java:423)\n",
      "py4j.reflection.MethodInvoker.invoke(MethodInvoker.java:247)\n",
      "py4j.reflection.ReflectionEngine.invoke(ReflectionEngine.java:357)\n",
      "py4j.Gateway.invoke(Gateway.java:238)\n",
      "py4j.commands.ConstructorCommand.invokeConstructor(ConstructorCommand.java:80)\n",
      "py4j.commands.ConstructorCommand.execute(ConstructorCommand.java:69)\n",
      "py4j.ClientServerConnection.waitForCommands(ClientServerConnection.java:182)\n",
      "py4j.ClientServerConnection.run(ClientServerConnection.java:106)\n",
      "java.lang.Thread.run(Thread.java:750)\n",
      "22/11/22 04:50:41 WARN Utils: Service 'SparkUI' could not bind on port 4040. Attempting port 4041.\n",
      "22/11/22 04:50:43 WARN DataSource: All paths were ignored:\n",
      "  file:/home/ubuntu/Part2_test/hashtag_output/.ipynb_checkpoints\n"
     ]
    },
    {
     "name": "stderr",
     "output_type": "stream",
     "text": [
      "                                                                                \r"
     ]
    },
    {
     "name": "stdout",
     "output_type": "stream",
     "text": [
      "22/11/22 04:50:49 WARN DataSource: All paths were ignored:\n",
      "  file:/home/ubuntu/Part2_test/cashtag_output/.ipynb_checkpoints\n"
     ]
    },
    {
     "name": "stderr",
     "output_type": "stream",
     "text": [
      "[Stage 11:>                                                         (0 + 2) / 2]\n",
      "\n",
      "StockList empty!:\n",
      "\n",
      "RT @aajtak: क्या Tech कंपनी भी आतंकवादी हो सकती है?\n",
      "\n",
      "#BlackAndWhiteOnAajTak #Russia #Meta| @sudhirchaudhary https://t.co/zABL4GkTIz     RT @aajtak: क्या Tech कंपनी भी आतंकवादी हो सकती है?\n",
      "\n",
      "#BlackAndWhiteOnAajTak #Russia #Meta| @sudhirchaudhary https://t.co/zABL4GkTIz     क्या Tech कंपनी भी आतंकवादी हो सकती है?\n",
      "\n",
      "#BlackAndWhiteOnAajTak #Russia #Meta| @sudhirchaudhary https://t.co/zABL4GkTIz \n",
      "\n",
      "\n",
      "[Stage 17:>                                                         (0 + 2) / 2]\n",
      "\n",
      "StockList empty!:\n",
      "\n",
      "RT @aajtak: क्या Tech कंपनी भी आतंकवादी हो सकती है?\n",
      "\n",
      "#BlackAndWhiteOnAajTak #Russia #Meta| @sudhirchaudhary https://t.co/zABL4GkTIz     RT @aajtak: क्या Tech कंपनी भी आतंकवादी हो सकती है?\n",
      "\n",
      "#BlackAndWhiteOnAajTak #Russia #Meta| @sudhirchaudhary https://t.co/zABL4GkTIz     क्या Tech कंपनी भी आतंकवादी हो सकती है?\n",
      "\n",
      "#BlackAndWhiteOnAajTak #Russia #Meta| @sudhirchaudhary https://t.co/zABL4GkTIz \n",
      "\n",
      "\n",
      "[Stage 20:>                                                         (0 + 1) / 1]\n",
      "\n",
      "StockList empty!:\n",
      "\n",
      "RT @aajtak: क्या Tech कंपनी भी आतंकवादी हो सकती है?\n",
      "\n",
      "#BlackAndWhiteOnAajTak #Russia #Meta| @sudhirchaudhary https://t.co/zABL4GkTIz     RT @aajtak: क्या Tech कंपनी भी आतंकवादी हो सकती है?\n",
      "\n",
      "#BlackAndWhiteOnAajTak #Russia #Meta| @sudhirchaudhary https://t.co/zABL4GkTIz     क्या Tech कंपनी भी आतंकवादी हो सकती है?\n",
      "\n",
      "#BlackAndWhiteOnAajTak #Russia #Meta| @sudhirchaudhary https://t.co/zABL4GkTIz \n",
      "\n",
      "\n",
      "                                                                                \r"
     ]
    },
    {
     "name": "stdout",
     "output_type": "stream",
     "text": [
      "+-------------------+--------------------+----------+-----------+-----------+-------------+--------------------+-------+--------------------+\n",
      "|          author_id|          created_at|like_count|quote_count|reply_count|retweet_count|                text|tickers|                tags|\n",
      "+-------------------+--------------------+----------+-----------+-----------+-------------+--------------------+-------+--------------------+\n",
      "|          321408110|2022-11-03T09:23:...|         0|          0|          0|            0|Check out  Handma...| [EBAY]|              [EBAY]|\n",
      "|1467172731787563018|2022-11-03T09:23:...|         0|          0|          0|            0|SHOKZ OpenRun #wi...| [EBAY]|[WIRELESS, HEADPH...|\n",
      "| 970484761687834624|2022-11-03T09:23:...|         0|          0|          0|            0|Blackdeer Outdoor...| [EBAY]|[EBAY, ALIEXPRESS...|\n",
      "|           47434619|2022-11-03T09:24:...|         0|          0|          0|            6|RT @R1J2P: Take a...| [EBAY]|              [EBAY]|\n",
      "|1498979251537678339|2022-11-03T09:24:...|         0|          0|          0|            0|Check out Demon S...| [EBAY]|              [EBAY]|\n",
      "|1499994436817752066|2022-11-03T09:24:...|         0|          0|          0|            0|Check out Men's C...| [EBAY]|              [EBAY]|\n",
      "| 834779972921339905|2022-11-03T09:24:...|         0|          0|          0|            0|2021 Contenders O...| [EBAY]|[EBAY, UNITEDSTAT...|\n",
      "|         4337326395|2022-11-03T09:24:...|         0|          0|          0|            0|Check out grey /b...| [EBAY]|              [EBAY]|\n",
      "|1162775438281891840|2022-11-03T09:24:...|         0|          0|          0|            0|#rolex DATEJUST 2...| [EBAY]|[ROLEX, NJ263, EB...|\n",
      "| 970484761687834624|2022-11-03T09:24:...|         0|          0|          0|            0|Blackdeer 10L 20L...| [EBAY]|[EBAY, ALIEXPRESS...|\n",
      "+-------------------+--------------------+----------+-----------+-----------+-------------+--------------------+-------+--------------------+\n",
      "only showing top 10 rows\n",
      "\n"
     ]
    },
    {
     "name": "stderr",
     "output_type": "stream",
     "text": [
      "                                                                                \r"
     ]
    },
    {
     "name": "stdout",
     "output_type": "stream",
     "text": [
      "+-------------------+--------------------+----------+-----------+-----------+-------------+--------------------+-------+--------------------+\n",
      "|          author_id|          created_at|like_count|quote_count|reply_count|retweet_count|                text|tickers|                tags|\n",
      "+-------------------+--------------------+----------+-----------+-----------+-------------+--------------------+-------+--------------------+\n",
      "|          321408110|2022-11-03T09:23:...|         0|          0|          0|            0|Check out  Handma...| [EBAY]|              [EBAY]|\n",
      "|1467172731787563018|2022-11-03T09:23:...|         0|          0|          0|            0|SHOKZ OpenRun #wi...| [EBAY]|[WIRELESS, HEADPH...|\n",
      "|           47434619|2022-11-03T09:24:...|         0|          0|          0|            6|RT @R1J2P: Take a...| [EBAY]|              [EBAY]|\n",
      "|1498979251537678339|2022-11-03T09:24:...|         0|          0|          0|            0|Check out Demon S...| [EBAY]|              [EBAY]|\n",
      "|1499994436817752066|2022-11-03T09:24:...|         0|          0|          0|            0|Check out Men's C...| [EBAY]|              [EBAY]|\n",
      "| 834779972921339905|2022-11-03T09:24:...|         0|          0|          0|            0|2021 Contenders O...| [EBAY]|[EBAY, UNITEDSTAT...|\n",
      "|         4337326395|2022-11-03T09:24:...|         0|          0|          0|            0|Check out grey /b...| [EBAY]|              [EBAY]|\n",
      "|1162775438281891840|2022-11-03T09:24:...|         0|          0|          0|            0|#rolex DATEJUST 2...| [EBAY]|[ROLEX, NJ263, EB...|\n",
      "|         4337326395|2022-11-03T09:24:...|         0|          0|          0|            0|Check out boys co...| [EBAY]|              [EBAY]|\n",
      "|         4337326395|2022-11-03T09:24:...|         0|          0|          0|            0|Check out jeans s...| [EBAY]|              [EBAY]|\n",
      "+-------------------+--------------------+----------+-----------+-----------+-------------+--------------------+-------+--------------------+\n",
      "only showing top 10 rows\n",
      "\n"
     ]
    },
    {
     "name": "stderr",
     "output_type": "stream",
     "text": [
      "\n",
      "\n",
      "StockList empty!:\n",
      "\n",
      "RT @aajtak: क्या Tech कंपनी भी आतंकवादी हो सकती है?\n",
      "\n",
      "#BlackAndWhiteOnAajTak #Russia #Meta| @sudhirchaudhary https://t.co/zABL4GkTIz     RT @aajtak: क्या Tech कंपनी भी आतंकवादी हो सकती है?\n",
      "\n",
      "#BlackAndWhiteOnAajTak #Russia #Meta| @sudhirchaudhary https://t.co/zABL4GkTIz     क्या Tech कंपनी भी आतंकवादी हो सकती है?\n",
      "\n",
      "#BlackAndWhiteOnAajTak #Russia #Meta| @sudhirchaudhary https://t.co/zABL4GkTIz \n",
      "\n",
      "\n",
      "                                                                                \n",
      "\n",
      "StockList empty!:\n",
      "\n",
      "RT @aajtak: क्या Tech कंपनी भी आतंकवादी हो सकती है?\n",
      "\n",
      "#BlackAndWhiteOnAajTak #Russia #Meta| @sudhirchaudhary https://t.co/zABL4GkTIz     RT @aajtak: क्या Tech कंपनी भी आतंकवादी हो सकती है?\n",
      "\n",
      "#BlackAndWhiteOnAajTak #Russia #Meta| @sudhirchaudhary https://t.co/zABL4GkTIz     क्या Tech कंपनी भी आतंकवादी हो सकती है?\n",
      "\n",
      "#BlackAndWhiteOnAajTak #Russia #Meta| @sudhirchaudhary https://t.co/zABL4GkTIz \n",
      "\n",
      "\n"
     ]
    },
    {
     "name": "stdout",
     "output_type": "stream",
     "text": [
      "+-------------------+--------------------+----------+-----------+-----------+-------------+--------------------+-------+--------------------+\n",
      "|          author_id|          created_at|like_count|quote_count|reply_count|retweet_count|                text|tickers|                tags|\n",
      "+-------------------+--------------------+----------+-----------+-----------+-------------+--------------------+-------+--------------------+\n",
      "|1467172731787563018|2022-11-03T09:23:...|         0|          0|          0|            0|SHOKZ OpenRun #wi...| [EBAY]|[WIRELESS, HEADPH...|\n",
      "|           47434619|2022-11-03T09:24:...|         0|          0|          0|            6|RT @R1J2P: Take a...| [EBAY]|              [EBAY]|\n",
      "| 834779972921339905|2022-11-03T09:24:...|         0|          0|          0|            0|2021 Contenders O...| [EBAY]|[EBAY, UNITEDSTAT...|\n",
      "|1162775438281891840|2022-11-03T09:24:...|         0|          0|          0|            0|#rolex DATEJUST 2...| [EBAY]|[ROLEX, NJ263, EB...|\n",
      "|1086710291411410949|2022-11-03T09:25:...|         0|          0|          0|            0|Dai un'occhiata a...| [EBAY]|              [EBAY]|\n",
      "|1527679375948369920|2022-11-03T09:25:...|         0|          0|          0|            0|RT @ezclapslul: C...| [EBAY]|              [EBAY]|\n",
      "|1544734308908388354|2022-11-03T09:25:...|         0|          0|          0|            0|Afirst Garden Tur...| [EBAY]|[AMAZON, EBAY, LA...|\n",
      "|          308678477|2022-11-03T09:26:...|         0|          0|          0|            0|STAR WARS BLACK S...| [EBAY]|[EBAY, UNITEDSTAT...|\n",
      "|1483319612301357056|2022-11-03T09:27:...|         0|          0|          0|            0|@Michael57055027 ...| [EBAY]|                  []|\n",
      "|           42152236|2022-11-03T09:28:...|         0|          0|          0|            1|RT @paulmcgrathuk...| [EBAY]|[DAVIDBOWIE, TOKY...|\n",
      "+-------------------+--------------------+----------+-----------+-----------+-------------+--------------------+-------+--------------------+\n",
      "only showing top 10 rows\n",
      "\n"
     ]
    },
    {
     "name": "stderr",
     "output_type": "stream",
     "text": [
      "                                                                                \r"
     ]
    },
    {
     "name": "stdout",
     "output_type": "stream",
     "text": [
      "+-------------------+--------------------+----------+-----------+-----------+-------------+--------------------+--------------------+----+\n",
      "|          author_id|          created_at|like_count|quote_count|reply_count|retweet_count|                text|             tickers|tags|\n",
      "+-------------------+--------------------+----------+-----------+-----------+-------------+--------------------+--------------------+----+\n",
      "|1409159987289489412|2022-10-26T00:09:...|         0|          0|          0|            0|🔥Most active Tra...|[AAPL, AMD, AMZN,...|  []|\n",
      "|1409159987289489412|2022-10-26T00:11:...|         0|          0|          0|            0|Check out our sub...|[AAPL, AMD, AMZN,...|  []|\n",
      "|1409159987289489412|2022-10-26T00:16:...|         0|          0|          0|            0|Check out our dis...|[AAPL, AMD, EBAY,...|  []|\n",
      "|1409159987289489412|2022-10-26T00:25:...|         0|          0|          0|            0|$TSLA $TAOP $JFK ...|[AAPL, AMD, AMZN,...|  []|\n",
      "|1409159987289489412|2022-10-26T00:54:...|         0|          0|          0|            0|Was able to close...|[AMD, AMZN, EBAY,...|  []|\n",
      "|1409159987289489412|2022-10-26T01:03:...|         0|          0|          0|            0|$BABA $TSLA $TAOP...|[AAPL, AMD, AMZN,...|  []|\n",
      "|1567562582084517888|2022-10-26T01:15:...|         0|          0|          0|            0| @Nebraskangooner 😂|              [EBAY]|  []|\n",
      "|          484380777|2022-10-26T02:33:...|         0|          0|          0|            0|@Hedge_FundGirl @...|              [EBAY]|  []|\n",
      "|1583437337484091394|2022-10-26T02:50:...|         0|          0|          0|            0|$ebay Top analyst...|              [EBAY]|  []|\n",
      "|1581987817919377408|2022-10-26T02:54:...|         0|          0|          0|            0|$ebay Top analyst...|              [EBAY]|  []|\n",
      "+-------------------+--------------------+----------+-----------+-----------+-------------+--------------------+--------------------+----+\n",
      "only showing top 10 rows\n",
      "\n"
     ]
    },
    {
     "name": "stderr",
     "output_type": "stream",
     "text": [
      "[Stage 24:>                                                         (0 + 2) / 2]\n",
      "\n",
      "StockList empty!:\n",
      "\n",
      "RT @aajtak: क्या Tech कंपनी भी आतंकवादी हो सकती है?\n",
      "\n",
      "#BlackAndWhiteOnAajTak #Russia #Meta| @sudhirchaudhary https://t.co/zABL4GkTIz     RT @aajtak: क्या Tech कंपनी भी आतंकवादी हो सकती है?\n",
      "\n",
      "#BlackAndWhiteOnAajTak #Russia #Meta| @sudhirchaudhary https://t.co/zABL4GkTIz     क्या Tech कंपनी भी आतंकवादी हो सकती है?\n",
      "\n",
      "#BlackAndWhiteOnAajTak #Russia #Meta| @sudhirchaudhary https://t.co/zABL4GkTIz \n",
      "\n",
      "\n",
      "                                                                                \r"
     ]
    },
    {
     "name": "stdout",
     "output_type": "stream",
     "text": [
      "\n",
      "Count1-3 47370, 47370, 47370\n",
      "Number of EBAY tweets with hashtags: 20106\n",
      "Number of EBAY tweets with cashtags: 527\n",
      "Filter 1: 19148\n",
      "Filter 2: 9888\n",
      "\n"
     ]
    },
    {
     "name": "stderr",
     "output_type": "stream",
     "text": [
      "                                                                                \r"
     ]
    },
    {
     "name": "stdout",
     "output_type": "stream",
     "text": [
      "+-----+---+----+----------+-----------+-----------+-------------+---------------------+-------+--------------------+\n",
      "|month|day|hour|like_count|quote_count|reply_count|retweet_count|                 text|tickers|                tags|\n",
      "+-----+---+----+----------+-----------+-----------+-------------+---------------------+-------+--------------------+\n",
      "|   11|  3|   9|         0|          0|          0|            0| @GraphicArts77 #b...|  [KDP]|[BIBLIOPHILE, BOO...|\n",
      "|   11|  3|   9|         0|          0|          0|           92| RT @Bloominje: Je...| [MRNA]|            [DOUDNA]|\n",
      "|   11|  3|   9|         0|          0|          0|            0| @alexandriabaine ...|  [KDP]|[BIBLIOPHILE, BOO...|\n",
      "|   11|  3|   9|         0|          0|          0|           60|RT @KBTEA1: 【11/2...|   [EA]|                  []|\n",
      "|   11|  3|   9|         0|          0|          0|           60| RT @yoshimune_ptr...|   [EA]|                  []|\n",
      "|   11|  3|   9|         0|          0|          0|            0| 5 coisas que vão ...| [META]|[METAVERSO, METAV...|\n",
      "|   11|  3|   9|         0|          0|          0|           16| RT @cryptoastblog...| [META]|[META, POLYGON, T...|\n",
      "|   11|  3|   9|         0|          0|          0|            0| If we get 69% gre...| [TSLA]|                  []|\n",
      "|   11|  3|   9|         0|          0|          0|          185| RT @PostvanFenna:...| [MRNA]|                  []|\n",
      "|   11|  3|   9|         0|          0|          0|            0| @AlexandriaJSno1 ...|  [KDP]|[BIBLIOPHILE, BOO...|\n",
      "+-----+---+----+----------+-----------+-----------+-------------+---------------------+-------+--------------------+\n",
      "only showing top 10 rows\n",
      "\n"
     ]
    },
    {
     "name": "stderr",
     "output_type": "stream",
     "text": [
      "[Stage 28:>                                                         (0 + 4) / 6]\n",
      "\n",
      "StockList empty!:\n",
      "\n",
      "RT @aajtak: क्या Tech कंपनी भी आतंकवादी हो सकती है?\n",
      "\n",
      "#BlackAndWhiteOnAajTak #Russia #Meta| @sudhirchaudhary https://t.co/zABL4GkTIz     RT @aajtak: क्या Tech कंपनी भी आतंकवादी हो सकती है?\n",
      "\n",
      "#BlackAndWhiteOnAajTak #Russia #Meta| @sudhirchaudhary https://t.co/zABL4GkTIz     क्या Tech कंपनी भी आतंकवादी हो सकती है?\n",
      "\n",
      "#BlackAndWhiteOnAajTak #Russia #Meta| @sudhirchaudhary https://t.co/zABL4GkTIz \n",
      "\n",
      "\n",
      "                                                                                \r"
     ]
    }
   ],
   "source": [
    "spark = SparkSession.builder.master(\n",
    "    'local[4]').appName('workerTest').config('spark.jars.packages', 'mysql:mysql-connector-java:8.0.30').getOrCreate()\n",
    "\n",
    "#print(\"Reading data\")\n",
    "hashtag_df: DataFrame = spark.read.option(\"multiLine\", \"true\").option(\"mode\", \"PERMISSIVE\").json(\n",
    "    \"../Part2_test/hashtag_output/.*\")\n",
    "\n",
    "cashtag_df: DataFrame = spark.read.option(\"multiLine\", \"true\").option(\"mode\", \"PERMISSIVE\").json(\n",
    "    \"../Part2_test/cashtag_output/.*\")\n",
    "\n",
    "# print(\"Done\")\n",
    "#hashtag_df = hashtag_df.union(cashtag_df)\n",
    "#print(\"Exploding tweets\")\n",
    "# Wyatt: We need to select col.includes.tweets as well to get the context of a tweet.\n",
    "tweets_hashtag_data_df = hashtag_df.select(\n",
    "    explode(\"tweets\")).select(\"col.data.*\", \"col.includes.tweets\")\n",
    "tweets_cashtag_data_df = cashtag_df.select(\n",
    "    explode(\"tweets\")).select(\"col.data.*\", \"col.includes.tweets\")\n",
    "# print(\"Done\")\n",
    "count1 = tweets_hashtag_data_df.count()\n",
    "\n",
    "tweets_hashtag_identified_df = tweets_hashtag_data_df.withColumn(\n",
    "    \"tickers\", tweets_to_tickers_UDF(col(\"tweets\"), col(\"text\")))\n",
    "tweets_cashtag_identified_df = tweets_cashtag_data_df.withColumn(\n",
    "    \"tickers\", tweets_to_tickers_UDF(col(\"tweets\"), col(\"text\")))\n",
    "\n",
    "count2 = tweets_hashtag_identified_df.count()\n",
    "\n",
    "#print(\"Extracting cash and hashtags\")\n",
    "hashtags_df = tweets_hashtag_identified_df.select(\"author_id\", \"created_at\", \"public_metrics.*\", \"text\", \"tickers\").withColumn(\n",
    "    \"tags\", udf(extract_hash_tags, ArrayType(StringType()))(\"text\"))\n",
    "\n",
    "cashtags_df = tweets_cashtag_identified_df.select(\"author_id\", \"created_at\", \"public_metrics.*\", \"text\", \"tickers\").withColumn(\n",
    "    \"tags\", udf(extract_cash_tags, ArrayType(StringType()))(\"text\"))\n",
    "\n",
    "count3 = hashtags_df.count()\n",
    "\n",
    "# Filtering out results from seperate cashtag and hashtag dataframes happens here\n",
    "ebay_hashtags_df = hashtags_df.where(\n",
    "    array_contains(col(\"tickers\"), \"EBAY\"))\n",
    "ebay_cashtags_df = cashtags_df.where(\n",
    "    array_contains(col(\"tickers\"), \"EBAY\"))\n",
    "\n",
    "ebay_h_count = ebay_hashtags_df.count()\n",
    "ebay_c_count = ebay_cashtags_df.count()\n",
    "ebay_hashtags_df_f1 = ebay_hashtags_df.where(\n",
    "    ~array_contains(col(\"tags\"), \"BOUTIQUE\") & ~array_contains(col(\"tags\"), \"SEARCHNCOLLECT\") & ~array_contains(col(\"tags\"), \"ALIEXPRESS\"))\n",
    "ebay_hashtags_df_f1_count = ebay_hashtags_df_f1.count()\n",
    "ebay_hashtags_df_f2 = ebay_hashtags_df_f1.where(\n",
    "    ~ebay_hashtags_df_f1.text.like(\"Check out%\")\n",
    ")\n",
    "ebay_hashtags_df.show(10)\n",
    "ebay_hashtags_df_f1.show(10)\n",
    "ebay_hashtags_df_f2.show(10)\n",
    "ebay_cashtags_df.show(10)\n",
    "\n",
    "print(\n",
    "    f\"\\nCount1-3 {count1}, {count2}, {count3}\\nNumber of EBAY tweets with hashtags: {ebay_h_count}\\nNumber of EBAY tweets with cashtags: {ebay_c_count}\\nFilter 1: {ebay_hashtags_df_f1_count}\\nFilter 2: {ebay_hashtags_df_f2.count()}\\n\")\n",
    "\n",
    "# print(\"Done\")\n",
    "# print(\"Merging\")\n",
    "#  merge two dataframe\n",
    "union_df = hashtags_df.union(cashtags_df).withColumn(\"created_at\",\n",
    "                                                     to_timestamp(\"created_at\", \"yyyy-MM-dd'T'HH:mm:ss.SSSX\"))\n",
    "# print(\"Done\")\n",
    "# print(\"Tags_df\")\n",
    "# tags_df = union_df.filter(size(\"tags\") > 0).withColumn(\n",
    "#     \"tag\", explode(\"tags\"))\n",
    "# # 1 top 5 stock with count #$ only\n",
    "# tags_df.drop(\"tags\").createOrReplaceTempView(\"tag\")\n",
    "\n",
    "# union_df.where(size('tickers') == 0).show(10)\n",
    "\n",
    "# Now get popularity statistics of stocks\n",
    "union_df = union_df.withColumn(\"month\", month(\"created_at\")).withColumn(\n",
    "    \"day\", dayofmonth(\"created_at\")).withColumn(\"hour\", hour(\"created_at\"))\n",
    "union_df = union_df.select(\"month\", \"day\", \"hour\", \"like_count\", \"quote_count\",\n",
    "                           \"reply_count\", \"retweet_count\", \"text\", \"tickers\", \"tags\")\n",
    "union_df.show(10)\n",
    "# dataframe.withColumn(\"song\", concat_ws(\",\", $\"song\"))\n",
    "write_db(union_df.withColumn(\"tickers\", concat_ws(\",\", union_df.tickers)\n",
    "                             ).withColumn(\"tags\", concat_ws(\",\", union_df.tags)), \"union_df\")\n",
    "time_tickers_tags_df = union_df.select(\n",
    "    \"month\", \"day\", \"hour\", \"tickers\", \"tags\")\n"
   ]
  },
  {
   "cell_type": "code",
   "execution_count": 6,
   "id": "f97b8c6a-a8cf-4d0a-abb5-2034208f0ebd",
   "metadata": {},
   "outputs": [
    {
     "name": "stderr",
     "output_type": "stream",
     "text": [
      "[Stage 29:>                                                         (0 + 1) / 1]\r"
     ]
    },
    {
     "name": "stdout",
     "output_type": "stream",
     "text": [
      "+-----+---+----+-------+--------------------+\n",
      "|month|day|hour|tickers|                tags|\n",
      "+-----+---+----+-------+--------------------+\n",
      "|   11|  3|   9|  [KDP]|[BIBLIOPHILE, BOO...|\n",
      "|   11|  3|   9| [MRNA]|            [DOUDNA]|\n",
      "|   11|  3|   9|  [KDP]|[BIBLIOPHILE, BOO...|\n",
      "|   11|  3|   9|   [EA]|                  []|\n",
      "|   11|  3|   9|   [EA]|                  []|\n",
      "|   11|  3|   9| [META]|[METAVERSO, METAV...|\n",
      "|   11|  3|   9| [META]|[META, POLYGON, T...|\n",
      "|   11|  3|   9| [TSLA]|                  []|\n",
      "|   11|  3|   9| [MRNA]|                  []|\n",
      "|   11|  3|   9|  [KDP]|[BIBLIOPHILE, BOO...|\n",
      "|   11|  3|   9| [META]|    [WHATSAPP, META]|\n",
      "|   11|  3|   9| [MRNA]|              [MRNA]|\n",
      "|   11|  3|   9|  [CSX]|                  []|\n",
      "|   11|  3|   9|  [KDP]|[KDP, AMAZON, CHI...|\n",
      "|   11|  3|   9| [COST]|[SUSTAINABLE, COS...|\n",
      "|   11|  3|   9| [AAPL]|              [AAPL]|\n",
      "|   11|  3|   9| [MRNA]|     [COVID19, MRNA]|\n",
      "|   11|  3|   9| [EBAY]|              [EBAY]|\n",
      "|   11|  3|   9| [META]|                  []|\n",
      "|   11|  3|   9| [EBAY]|[WIRELESS, HEADPH...|\n",
      "+-----+---+----+-------+--------------------+\n",
      "only showing top 20 rows\n",
      "\n"
     ]
    },
    {
     "name": "stderr",
     "output_type": "stream",
     "text": [
      "                                                                                \r"
     ]
    }
   ],
   "source": [
    "time_tickers_tags_df.filter(col('month') != 10).show()"
   ]
  },
  {
   "cell_type": "code",
   "execution_count": 8,
   "id": "97ebbf1f-895d-43e4-83d3-e054fe8eed30",
   "metadata": {},
   "outputs": [],
   "source": [
    "mdhr_tags = time_tickers_tags_df.withColumn(\"tickers\", concat_ws(\",\", union_df.tickers)\n",
    "                                             ).withColumn(\"tags\", concat_ws(\",\", union_df.tags))"
   ]
  },
  {
   "cell_type": "code",
   "execution_count": 9,
   "id": "6238fe12-917f-4203-86ce-5d7a180fab46",
   "metadata": {},
   "outputs": [
    {
     "name": "stderr",
     "output_type": "stream",
     "text": [
      "[Stage 30:>                                                         (0 + 1) / 1]\r"
     ]
    },
    {
     "name": "stdout",
     "output_type": "stream",
     "text": [
      "+-----+---+----+-------+--------------------+\n",
      "|month|day|hour|tickers|                tags|\n",
      "+-----+---+----+-------+--------------------+\n",
      "|   11|  3|   9|    KDP|BIBLIOPHILE,BOOKL...|\n",
      "|   11|  3|   9|   MRNA|              DOUDNA|\n",
      "|   11|  3|   9|    KDP|BIBLIOPHILE,BOOKL...|\n",
      "|   11|  3|   9|     EA|                    |\n",
      "|   11|  3|   9|     EA|                    |\n",
      "|   11|  3|   9|   META|METAVERSO,METAVER...|\n",
      "|   11|  3|   9|   META|META,POLYGON,TOKE...|\n",
      "|   11|  3|   9|   TSLA|                    |\n",
      "|   11|  3|   9|   MRNA|                    |\n",
      "|   11|  3|   9|    KDP|BIBLIOPHILE,BOOKL...|\n",
      "|   11|  3|   9|   META|       WHATSAPP,META|\n",
      "|   11|  3|   9|   MRNA|                MRNA|\n",
      "|   11|  3|   9|    CSX|                    |\n",
      "|   11|  3|   9|    KDP|KDP,AMAZON,CHILDR...|\n",
      "|   11|  3|   9|   COST|SUSTAINABLE,COST,...|\n",
      "|   11|  3|   9|   AAPL|                AAPL|\n",
      "|   11|  3|   9|   MRNA|        COVID19,MRNA|\n",
      "|   11|  3|   9|   EBAY|                EBAY|\n",
      "|   11|  3|   9|   META|                    |\n",
      "|   11|  3|   9|   EBAY|WIRELESS,HEADPHON...|\n",
      "+-----+---+----+-------+--------------------+\n",
      "only showing top 20 rows\n",
      "\n"
     ]
    },
    {
     "name": "stderr",
     "output_type": "stream",
     "text": [
      "                                                                                \r"
     ]
    }
   ],
   "source": [
    "mdhr_tags.filter(col('month') != 10).show()"
   ]
  },
  {
   "cell_type": "code",
   "execution_count": 10,
   "id": "e03791cc-e3e2-4bee-baa0-3001c5525888",
   "metadata": {},
   "outputs": [
    {
     "name": "stderr",
     "output_type": "stream",
     "text": [
      "[Stage 31:>                                                         (0 + 4) / 6]\n",
      "\n",
      "StockList empty!:\n",
      "\n",
      "RT @aajtak: क्या Tech कंपनी भी आतंकवादी हो सकती है?\n",
      "\n",
      "#BlackAndWhiteOnAajTak #Russia #Meta| @sudhirchaudhary https://t.co/zABL4GkTIz     RT @aajtak: क्या Tech कंपनी भी आतंकवादी हो सकती है?\n",
      "\n",
      "#BlackAndWhiteOnAajTak #Russia #Meta| @sudhirchaudhary https://t.co/zABL4GkTIz     क्या Tech कंपनी भी आतंकवादी हो सकती है?\n",
      "\n",
      "#BlackAndWhiteOnAajTak #Russia #Meta| @sudhirchaudhary https://t.co/zABL4GkTIz \n",
      "\n",
      "\n",
      "                                                                                \r"
     ]
    }
   ],
   "source": [
    "write_db(mdhr_tags, 'mdhr_tags')"
   ]
  }
 ],
 "metadata": {
  "kernelspec": {
   "display_name": "Python 3 (ipykernel)",
   "language": "python",
   "name": "python3"
  },
  "language_info": {
   "codemirror_mode": {
    "name": "ipython",
    "version": 3
   },
   "file_extension": ".py",
   "mimetype": "text/x-python",
   "name": "python",
   "nbconvert_exporter": "python",
   "pygments_lexer": "ipython3",
   "version": "3.10.6"
  }
 },
 "nbformat": 4,
 "nbformat_minor": 5
}
