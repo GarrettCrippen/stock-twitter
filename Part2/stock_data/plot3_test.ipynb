{
 "cells": [
  {
   "cell_type": "code",
   "execution_count": 102,
   "id": "e8fba620-5be7-452c-875b-2b23d6300b3e",
   "metadata": {},
   "outputs": [],
   "source": [
    "from pyspark.sql import SparkSession, DataFrame\n",
    "from pyspark.sql.functions import explode, udf, size, col, concat_ws, to_date, to_timestamp, date_trunc, count, array_contains, month, dayofmonth, hour, explode_outer, split\n",
    "import plotly.express as px\n",
    "import plotly.graph_objects as go\n",
    "import pandas\n",
    "import pandasql\n",
    "import numpy as np\n",
    "\n",
    "spark = SparkSession.builder.appName('practice').config('spark.jars.packages', 'mysql:mysql-connector-java:8.0.30').master(\n",
    "    \"local\").getOrCreate()\n",
    "\n",
    "hourly_df = spark.read.format(\"jdbc\").option(\"url\", \"jdbc:mysql://localhost:3306/cs179g\") \\\n",
    "    .option(\"driver\", \"com.mysql.jdbc.Driver\").option(\"dbtable\", \"stocks_hourly\") \\\n",
    "    .option(\"user\", \"Garrett\").option(\"password\", \"123\").load()\n",
    "\n",
    "monthly_df = spark.read.format(\"jdbc\").option(\"url\", \"jdbc:mysql://localhost:3306/cs179g\") \\\n",
    "    .option(\"driver\", \"com.mysql.jdbc.Driver\").option(\"dbtable\", \"stocks_monthly\") \\\n",
    "    .option(\"user\", \"Garrett\").option(\"password\", \"123\").load()\n",
    "\n",
    "top_tags = spark.read.format(\"jdbc\").option(\"url\", \"jdbc:mysql://localhost:3306/cs179g\") \\\n",
    "    .option(\"driver\", \"com.mysql.jdbc.Driver\").option(\"dbtable\", \"top_tags\") \\\n",
    "    .option(\"user\", \"Garrett\").option(\"password\", \"123\").load()"
   ]
  },
  {
   "cell_type": "code",
   "execution_count": null,
   "id": "bc0d8e84-f72c-489c-b112-25f0b3f38ce2",
   "metadata": {},
   "outputs": [],
   "source": [
    "#User Input\n",
    "stock_day = 26\n",
    "stock_month = 10\n",
    "stock_ticker = 'TEAM'"
   ]
  },
  {
   "cell_type": "code",
   "execution_count": null,
   "id": "54547bcd-1244-4c0e-be1a-e1e684da94e8",
   "metadata": {},
   "outputs": [],
   "source": [
    "hourly_df.createOrReplaceTempView(\"current_stock\")\n",
    "monthly_df.createOrReplaceTempView(\"monthly\")\n",
    "top_tags.createOrReplaceTempView(\"top_tags\")\n",
    "\n",
    "current_stock = spark.sql(f\"SELECT * from current_stock where day = {stock_day} and month = {stock_month} and ticker = '{stock_ticker}' order by hour\")\n",
    "current_stock = current_stock.toPandas()"
   ]
  },
  {
   "cell_type": "code",
   "execution_count": 107,
   "id": "65cc1a24-c914-4728-a058-0b0c2ab6ae2c",
   "metadata": {},
   "outputs": [],
   "source": [
    "#some issue with our DB\n",
    "hourly_tags = spark.sql(f\"Select tags, times, hour from top_tags where tickers = '{stock_ticker}' and month = {stock_month} and day = {stock_day} group by tickers, times,tags, hour order by times DESC  \")\n",
    "hourly_tags.createOrReplaceTempView(\"tags_hour\")\n",
    "tags_freq=[]"
   ]
  },
  {
   "cell_type": "code",
   "execution_count": 108,
   "id": "115f7648-5be8-40c8-84d9-da4b81ad083c",
   "metadata": {},
   "outputs": [],
   "source": [
    "a=hourly_tags.toPandas()"
   ]
  },
  {
   "cell_type": "code",
   "execution_count": 116,
   "id": "28996571-631f-4626-a2d9-b1fbfc8f265c",
   "metadata": {},
   "outputs": [
    {
     "data": {
      "text/html": [
       "<div>\n",
       "<style scoped>\n",
       "    .dataframe tbody tr th:only-of-type {\n",
       "        vertical-align: middle;\n",
       "    }\n",
       "\n",
       "    .dataframe tbody tr th {\n",
       "        vertical-align: top;\n",
       "    }\n",
       "\n",
       "    .dataframe thead th {\n",
       "        text-align: right;\n",
       "    }\n",
       "</style>\n",
       "<table border=\"1\" class=\"dataframe\">\n",
       "  <thead>\n",
       "    <tr style=\"text-align: right;\">\n",
       "      <th></th>\n",
       "      <th>tags</th>\n",
       "      <th>times</th>\n",
       "    </tr>\n",
       "  </thead>\n",
       "  <tbody>\n",
       "    <tr>\n",
       "      <th>0</th>\n",
       "      <td>DEFI</td>\n",
       "      <td>329</td>\n",
       "    </tr>\n",
       "    <tr>\n",
       "      <th>1</th>\n",
       "      <td>STABLEFUND</td>\n",
       "      <td>256</td>\n",
       "    </tr>\n",
       "    <tr>\n",
       "      <th>2</th>\n",
       "      <td>SAFUU</td>\n",
       "      <td>256</td>\n",
       "    </tr>\n",
       "  </tbody>\n",
       "</table>\n",
       "</div>"
      ],
      "text/plain": [
       "         tags  times\n",
       "0        DEFI    329\n",
       "1  STABLEFUND    256\n",
       "2       SAFUU    256"
      ]
     },
     "execution_count": 116,
     "metadata": {},
     "output_type": "execute_result"
    }
   ],
   "source": [
    "pandasql.sqldf(f\"SELECT tags, times from a where hour = {8} order by times DESC limit 3\",locals()).head(10)"
   ]
  },
  {
   "cell_type": "code",
   "execution_count": 99,
   "id": "152b03cb-6a13-4bf3-9b43-c95a965ce4f4",
   "metadata": {},
   "outputs": [
    {
     "data": {
      "text/html": [
       "<div>\n",
       "<style scoped>\n",
       "    .dataframe tbody tr th:only-of-type {\n",
       "        vertical-align: middle;\n",
       "    }\n",
       "\n",
       "    .dataframe tbody tr th {\n",
       "        vertical-align: top;\n",
       "    }\n",
       "\n",
       "    .dataframe thead th {\n",
       "        text-align: right;\n",
       "    }\n",
       "</style>\n",
       "<table border=\"1\" class=\"dataframe\">\n",
       "  <thead>\n",
       "    <tr style=\"text-align: right;\">\n",
       "      <th></th>\n",
       "      <th>tags</th>\n",
       "      <th>times</th>\n",
       "    </tr>\n",
       "  </thead>\n",
       "  <tbody>\n",
       "    <tr>\n",
       "      <th>0</th>\n",
       "      <td>ETHERNITYCLOUD</td>\n",
       "      <td>27</td>\n",
       "    </tr>\n",
       "    <tr>\n",
       "      <th>1</th>\n",
       "      <td>WEB3</td>\n",
       "      <td>27</td>\n",
       "    </tr>\n",
       "    <tr>\n",
       "      <th>2</th>\n",
       "      <td>ETNYSUPPORTER</td>\n",
       "      <td>18</td>\n",
       "    </tr>\n",
       "  </tbody>\n",
       "</table>\n",
       "</div>"
      ],
      "text/plain": [
       "             tags  times\n",
       "0  ETHERNITYCLOUD     27\n",
       "1            WEB3     27\n",
       "2   ETNYSUPPORTER     18"
      ]
     },
     "execution_count": 99,
     "metadata": {},
     "output_type": "execute_result"
    }
   ],
   "source": [
    "spark.sql(f\"SELECT tags, times from tags_hour where hour = {i[0]} order by times DESC limit 3\").toPandas().head(10)"
   ]
  },
  {
   "cell_type": "code",
   "execution_count": null,
   "id": "7c2bd525-4ae0-4bd9-b11a-76f287bcc8c4",
   "metadata": {},
   "outputs": [
    {
     "name": "stdout",
     "output_type": "stream",
     "text": [
      "[8] #DEFI: 329, \n",
      "[8] #STABLEFUND: 256, \n",
      "[8] #GRAPE: 256, \n",
      "[9] #DRIP: 153, \n",
      "[9] #GRAPE: 153, \n",
      "[9] #SAFUU: 153, \n",
      "[10] #JOINTAKEDA: 140, \n",
      "[10] #SAFUU: 140, \n",
      "[10] #BATTLESTAKES: 140, \n",
      "[11] #DEFI: 188, \n",
      "[11] #DRIP: 167, \n",
      "[11] #GRAPE: 167, \n",
      "[12] #DEFI: 50, \n",
      "[12] #GRAPE: 38, \n",
      "[12] #EMP: 38, \n",
      "[13] #DEFI: 81, \n",
      "[13] #DRIP: 51, \n",
      "[13] #STABLEFUND: 51, \n",
      "[14] #WEB3: 30, \n",
      "[14] #ETHERNITYCLOUD: 30, \n",
      "[14] #CARACAS: 19, \n",
      "[15] #ETHERNITYCLOUD: 27, \n",
      "[15] #WEB3: 27, \n",
      "[15] #ETNYSUPPORTER: 18, \n"
     ]
    }
   ],
   "source": [
    "text=[]\n",
    "for i in np.array(current_stock['hour']).reshape(-1,1):\n",
    "    tmp = spark.sql(f\"SELECT tags, times from tags_hour where hour = {i[0]} order by times DESC limit 3\").toPandas()\n",
    "    text_hour = \"\"\n",
    "    for j, row in tmp.iterrows():\n",
    "        text=\"\"\n",
    "        for col in tmp.columns.values:\n",
    "            if(col == 'tags'):\n",
    "                text += f\"#{row[col]}: \"\n",
    "            else:\n",
    "                text += f\"{row[col]}, \"\n",
    "        print(i,text)\n",
    "        text_hour+=text\n",
    "    tags_freq.append(i)\n",
    "    tags_freq.append([text_hour])"
   ]
  },
  {
   "cell_type": "code",
   "execution_count": null,
   "id": "1996e720-21f8-43f6-965b-144bafa42fb6",
   "metadata": {},
   "outputs": [
    {
     "name": "stdout",
     "output_type": "stream",
     "text": [
      "[array([5], dtype=int32), [''], array([6], dtype=int32), [''], array([7], dtype=int32), [''], array([8], dtype=int32), ['#DEFI: 329, #STABLEFUND: 256, #GRAPE: 256, '], array([9], dtype=int32), ['#DRIP: 153, #GRAPE: 153, #SAFUU: 153, '], array([10], dtype=int32), ['#JOINTAKEDA: 140, #SAFUU: 140, #BATTLESTAKES: 140, '], array([11], dtype=int32), ['#DEFI: 188, #DRIP: 167, #GRAPE: 167, '], array([12], dtype=int32), ['#DEFI: 50, #GRAPE: 38, #EMP: 38, '], array([13], dtype=int32), ['#DEFI: 81, #DRIP: 51, #STABLEFUND: 51, '], array([14], dtype=int32), ['#WEB3: 30, #ETHERNITYCLOUD: 30, #CARACAS: 19, '], array([15], dtype=int32), ['#ETHERNITYCLOUD: 27, #WEB3: 27, #ETNYSUPPORTER: 18, ']]\n"
     ]
    }
   ],
   "source": [
    "print(tags_freq)"
   ]
  },
  {
   "cell_type": "code",
   "execution_count": null,
   "id": "6caf7d50-1b6d-4d92-8769-f5d93f059060",
   "metadata": {},
   "outputs": [],
   "source": [
    "tags_freq = np.array(tags_freq).reshape(-1,)"
   ]
  },
  {
   "cell_type": "code",
   "execution_count": null,
   "id": "53c3ff88-ab61-45fd-83ce-89848791da76",
   "metadata": {},
   "outputs": [],
   "source": [
    "tags_hour = pandas.Series(tags_freq[::2],name ='hour')"
   ]
  },
  {
   "cell_type": "code",
   "execution_count": null,
   "id": "7622b11d-23e8-4cbf-8a50-1cb4d366d473",
   "metadata": {},
   "outputs": [],
   "source": [
    "tags_count = pandas.Series(tags_freq[1::2],name = 'times')"
   ]
  },
  {
   "cell_type": "code",
   "execution_count": null,
   "id": "3ff7850d-0979-4a55-87c9-1deb0bdec99f",
   "metadata": {},
   "outputs": [],
   "source": [
    "tmp_frame = pandas.DataFrame(columns = ['hour', 'times'])\n",
    "tmp_frame['hour'] = tags_hour.astype(int)\n",
    "tmp_frame['times'] = tags_count"
   ]
  },
  {
   "cell_type": "code",
   "execution_count": null,
   "id": "b2f4ed29-3d76-4a83-ac24-c89598dc5573",
   "metadata": {},
   "outputs": [],
   "source": [
    "current_stock=current_stock.merge(tmp_frame)"
   ]
  },
  {
   "cell_type": "code",
   "execution_count": null,
   "id": "812556ce-e869-4f5e-acfa-a311af1b0751",
   "metadata": {},
   "outputs": [
    {
     "data": {
      "text/html": [
       "<div>\n",
       "<style scoped>\n",
       "    .dataframe tbody tr th:only-of-type {\n",
       "        vertical-align: middle;\n",
       "    }\n",
       "\n",
       "    .dataframe tbody tr th {\n",
       "        vertical-align: top;\n",
       "    }\n",
       "\n",
       "    .dataframe thead th {\n",
       "        text-align: right;\n",
       "    }\n",
       "</style>\n",
       "<table border=\"1\" class=\"dataframe\">\n",
       "  <thead>\n",
       "    <tr style=\"text-align: right;\">\n",
       "      <th></th>\n",
       "      <th>close</th>\n",
       "      <th>high</th>\n",
       "      <th>low</th>\n",
       "      <th>open</th>\n",
       "      <th>ticker</th>\n",
       "      <th>hour</th>\n",
       "      <th>volume</th>\n",
       "      <th>month</th>\n",
       "      <th>day</th>\n",
       "      <th>times</th>\n",
       "    </tr>\n",
       "  </thead>\n",
       "  <tbody>\n",
       "    <tr>\n",
       "      <th>0</th>\n",
       "      <td>197.000</td>\n",
       "      <td>197.0700</td>\n",
       "      <td>197.000</td>\n",
       "      <td>197.070</td>\n",
       "      <td>TEAM</td>\n",
       "      <td>5</td>\n",
       "      <td>1192.0</td>\n",
       "      <td>10</td>\n",
       "      <td>26</td>\n",
       "      <td></td>\n",
       "    </tr>\n",
       "    <tr>\n",
       "      <th>1</th>\n",
       "      <td>202.745</td>\n",
       "      <td>204.3000</td>\n",
       "      <td>194.660</td>\n",
       "      <td>197.000</td>\n",
       "      <td>TEAM</td>\n",
       "      <td>6</td>\n",
       "      <td>143064.0</td>\n",
       "      <td>10</td>\n",
       "      <td>26</td>\n",
       "      <td></td>\n",
       "    </tr>\n",
       "    <tr>\n",
       "      <th>2</th>\n",
       "      <td>205.730</td>\n",
       "      <td>207.9400</td>\n",
       "      <td>203.000</td>\n",
       "      <td>203.170</td>\n",
       "      <td>TEAM</td>\n",
       "      <td>7</td>\n",
       "      <td>191215.0</td>\n",
       "      <td>10</td>\n",
       "      <td>26</td>\n",
       "      <td></td>\n",
       "    </tr>\n",
       "    <tr>\n",
       "      <th>3</th>\n",
       "      <td>205.920</td>\n",
       "      <td>209.1900</td>\n",
       "      <td>205.760</td>\n",
       "      <td>205.820</td>\n",
       "      <td>TEAM</td>\n",
       "      <td>8</td>\n",
       "      <td>168424.0</td>\n",
       "      <td>10</td>\n",
       "      <td>26</td>\n",
       "      <td>#DEFI: 329, #STABLEFUND: 256, #GRAPE: 256,</td>\n",
       "    </tr>\n",
       "    <tr>\n",
       "      <th>4</th>\n",
       "      <td>200.930</td>\n",
       "      <td>206.7700</td>\n",
       "      <td>200.870</td>\n",
       "      <td>205.865</td>\n",
       "      <td>TEAM</td>\n",
       "      <td>9</td>\n",
       "      <td>120220.0</td>\n",
       "      <td>10</td>\n",
       "      <td>26</td>\n",
       "      <td>#DRIP: 153, #GRAPE: 153, #SAFUU: 153,</td>\n",
       "    </tr>\n",
       "    <tr>\n",
       "      <th>5</th>\n",
       "      <td>199.460</td>\n",
       "      <td>200.8600</td>\n",
       "      <td>197.190</td>\n",
       "      <td>200.640</td>\n",
       "      <td>TEAM</td>\n",
       "      <td>10</td>\n",
       "      <td>145734.0</td>\n",
       "      <td>10</td>\n",
       "      <td>26</td>\n",
       "      <td>#JOINTAKEDA: 140, #SAFUU: 140, #BATTLESTAKES: ...</td>\n",
       "    </tr>\n",
       "    <tr>\n",
       "      <th>6</th>\n",
       "      <td>197.420</td>\n",
       "      <td>199.6700</td>\n",
       "      <td>197.065</td>\n",
       "      <td>199.370</td>\n",
       "      <td>TEAM</td>\n",
       "      <td>11</td>\n",
       "      <td>152477.0</td>\n",
       "      <td>10</td>\n",
       "      <td>26</td>\n",
       "      <td>#DEFI: 188, #DRIP: 167, #GRAPE: 167,</td>\n",
       "    </tr>\n",
       "    <tr>\n",
       "      <th>7</th>\n",
       "      <td>195.230</td>\n",
       "      <td>197.4150</td>\n",
       "      <td>194.620</td>\n",
       "      <td>197.415</td>\n",
       "      <td>TEAM</td>\n",
       "      <td>12</td>\n",
       "      <td>511097.0</td>\n",
       "      <td>10</td>\n",
       "      <td>26</td>\n",
       "      <td>#DEFI: 50, #GRAPE: 38, #EMP: 38,</td>\n",
       "    </tr>\n",
       "    <tr>\n",
       "      <th>8</th>\n",
       "      <td>201.500</td>\n",
       "      <td>203.8466</td>\n",
       "      <td>195.220</td>\n",
       "      <td>195.220</td>\n",
       "      <td>TEAM</td>\n",
       "      <td>13</td>\n",
       "      <td>23117.0</td>\n",
       "      <td>10</td>\n",
       "      <td>26</td>\n",
       "      <td>#DEFI: 81, #DRIP: 51, #STABLEFUND: 51,</td>\n",
       "    </tr>\n",
       "    <tr>\n",
       "      <th>9</th>\n",
       "      <td>202.000</td>\n",
       "      <td>202.0000</td>\n",
       "      <td>201.490</td>\n",
       "      <td>201.490</td>\n",
       "      <td>TEAM</td>\n",
       "      <td>14</td>\n",
       "      <td>400.0</td>\n",
       "      <td>10</td>\n",
       "      <td>26</td>\n",
       "      <td>#WEB3: 30, #ETHERNITYCLOUD: 30, #CARACAS: 19,</td>\n",
       "    </tr>\n",
       "    <tr>\n",
       "      <th>10</th>\n",
       "      <td>200.000</td>\n",
       "      <td>200.0000</td>\n",
       "      <td>200.000</td>\n",
       "      <td>200.000</td>\n",
       "      <td>TEAM</td>\n",
       "      <td>15</td>\n",
       "      <td>351.0</td>\n",
       "      <td>10</td>\n",
       "      <td>26</td>\n",
       "      <td>#ETHERNITYCLOUD: 27, #WEB3: 27, #ETNYSUPPORTER...</td>\n",
       "    </tr>\n",
       "  </tbody>\n",
       "</table>\n",
       "</div>"
      ],
      "text/plain": [
       "      close      high      low     open ticker  hour    volume  month  day  \\\n",
       "0   197.000  197.0700  197.000  197.070   TEAM     5    1192.0     10   26   \n",
       "1   202.745  204.3000  194.660  197.000   TEAM     6  143064.0     10   26   \n",
       "2   205.730  207.9400  203.000  203.170   TEAM     7  191215.0     10   26   \n",
       "3   205.920  209.1900  205.760  205.820   TEAM     8  168424.0     10   26   \n",
       "4   200.930  206.7700  200.870  205.865   TEAM     9  120220.0     10   26   \n",
       "5   199.460  200.8600  197.190  200.640   TEAM    10  145734.0     10   26   \n",
       "6   197.420  199.6700  197.065  199.370   TEAM    11  152477.0     10   26   \n",
       "7   195.230  197.4150  194.620  197.415   TEAM    12  511097.0     10   26   \n",
       "8   201.500  203.8466  195.220  195.220   TEAM    13   23117.0     10   26   \n",
       "9   202.000  202.0000  201.490  201.490   TEAM    14     400.0     10   26   \n",
       "10  200.000  200.0000  200.000  200.000   TEAM    15     351.0     10   26   \n",
       "\n",
       "                                                times  \n",
       "0                                                      \n",
       "1                                                      \n",
       "2                                                      \n",
       "3         #DEFI: 329, #STABLEFUND: 256, #GRAPE: 256,   \n",
       "4              #DRIP: 153, #GRAPE: 153, #SAFUU: 153,   \n",
       "5   #JOINTAKEDA: 140, #SAFUU: 140, #BATTLESTAKES: ...  \n",
       "6               #DEFI: 188, #DRIP: 167, #GRAPE: 167,   \n",
       "7                   #DEFI: 50, #GRAPE: 38, #EMP: 38,   \n",
       "8             #DEFI: 81, #DRIP: 51, #STABLEFUND: 51,   \n",
       "9      #WEB3: 30, #ETHERNITYCLOUD: 30, #CARACAS: 19,   \n",
       "10  #ETHERNITYCLOUD: 27, #WEB3: 27, #ETNYSUPPORTER...  "
      ]
     },
     "execution_count": 75,
     "metadata": {},
     "output_type": "execute_result"
    }
   ],
   "source": [
    "current_stock.head(15)"
   ]
  },
  {
   "cell_type": "code",
   "execution_count": 121,
   "id": "e845f288-78dd-46fa-a10f-810d69198d1b",
   "metadata": {},
   "outputs": [
    {
     "name": "stdout",
     "output_type": "stream",
     "text": [
      "0    195.22\n",
      "Name: close, dtype: float64\n"
     ]
    }
   ],
   "source": [
    "print(spark.sql(f\"SELECT close from monthly where day = {stock_day} and month = {stock_month} and ticker = '{stock_ticker}' \").toPandas()['close'])"
   ]
  },
  {
   "cell_type": "code",
   "execution_count": null,
   "id": "94163e86-c405-4430-84b6-4e5c55b91e6a",
   "metadata": {},
   "outputs": [
    {
     "data": {
      "application/vnd.plotly.v1+json": {
       "config": {
        "plotlyServerURL": "https://plot.ly"
       },
       "data": [
        {
         "customdata": [
          [
           197.07,
           197.07,
           197,
           1192,
           ""
          ],
          [
           197,
           204.3,
           194.66,
           143064,
           ""
          ],
          [
           203.17,
           207.94,
           203,
           191215,
           ""
          ],
          [
           205.82,
           209.19,
           205.76,
           168424,
           "#DEFI: 329, #STABLEFUND: 256, #GRAPE: 256, "
          ],
          [
           205.865,
           206.77,
           200.87,
           120220,
           "#DRIP: 153, #GRAPE: 153, #SAFUU: 153, "
          ],
          [
           200.64,
           200.86,
           197.19,
           145734,
           "#JOINTAKEDA: 140, #SAFUU: 140, #BATTLESTAKES: 140, "
          ],
          [
           199.37,
           199.67,
           197.065,
           152477,
           "#DEFI: 188, #DRIP: 167, #GRAPE: 167, "
          ],
          [
           197.415,
           197.415,
           194.62,
           511097,
           "#DEFI: 50, #GRAPE: 38, #EMP: 38, "
          ],
          [
           195.22,
           203.8466,
           195.22,
           23117,
           "#DEFI: 81, #DRIP: 51, #STABLEFUND: 51, "
          ],
          [
           201.49,
           202,
           201.49,
           400,
           "#WEB3: 30, #ETHERNITYCLOUD: 30, #CARACAS: 19, "
          ],
          [
           200,
           200,
           200,
           351,
           "#ETHERNITYCLOUD: 27, #WEB3: 27, #ETNYSUPPORTER: 18, "
          ]
         ],
         "hovertemplate": "open: </b>%{customdata[0]: .2f} <br>high: </b>%{customdata[1]: .2f} <br>low: </b>%{customdata[2]: .2f} <br>volume: </b>%{customdata[3]: ,} <br><extra> TEAM </extra><extra> %{customdata[4]} </extra>",
         "legendgroup": "",
         "line": {
          "color": "#636efa",
          "dash": "solid"
         },
         "marker": {
          "symbol": "circle"
         },
         "mode": "lines",
         "name": "",
         "orientation": "v",
         "showlegend": false,
         "type": "scatter",
         "x": [
          5,
          6,
          7,
          8,
          9,
          10,
          11,
          12,
          13,
          14,
          15
         ],
         "xaxis": "x",
         "y": [
          197,
          202.745,
          205.73,
          205.92,
          200.93,
          199.46,
          197.42,
          195.23,
          201.5,
          202,
          200
         ],
         "yaxis": "y"
        }
       ],
       "layout": {
        "autosize": true,
        "legend": {
         "tracegroupgap": 0
        },
        "shapes": [
         {
          "line": {
           "color": "LightSeaGreen",
           "dash": "dashdot",
           "width": 2
          },
          "type": "line",
          "x0": 0,
          "x1": 1,
          "xref": "paper",
          "y0": 195.22,
          "y1": 195.22,
          "yref": "y"
         }
        ],
        "template": {
         "data": {
          "bar": [
           {
            "error_x": {
             "color": "#2a3f5f"
            },
            "error_y": {
             "color": "#2a3f5f"
            },
            "marker": {
             "line": {
              "color": "#E5ECF6",
              "width": 0.5
             },
             "pattern": {
              "fillmode": "overlay",
              "size": 10,
              "solidity": 0.2
             }
            },
            "type": "bar"
           }
          ],
          "barpolar": [
           {
            "marker": {
             "line": {
              "color": "#E5ECF6",
              "width": 0.5
             },
             "pattern": {
              "fillmode": "overlay",
              "size": 10,
              "solidity": 0.2
             }
            },
            "type": "barpolar"
           }
          ],
          "carpet": [
           {
            "aaxis": {
             "endlinecolor": "#2a3f5f",
             "gridcolor": "white",
             "linecolor": "white",
             "minorgridcolor": "white",
             "startlinecolor": "#2a3f5f"
            },
            "baxis": {
             "endlinecolor": "#2a3f5f",
             "gridcolor": "white",
             "linecolor": "white",
             "minorgridcolor": "white",
             "startlinecolor": "#2a3f5f"
            },
            "type": "carpet"
           }
          ],
          "choropleth": [
           {
            "colorbar": {
             "outlinewidth": 0,
             "ticks": ""
            },
            "type": "choropleth"
           }
          ],
          "contour": [
           {
            "colorbar": {
             "outlinewidth": 0,
             "ticks": ""
            },
            "colorscale": [
             [
              0,
              "#0d0887"
             ],
             [
              0.1111111111111111,
              "#46039f"
             ],
             [
              0.2222222222222222,
              "#7201a8"
             ],
             [
              0.3333333333333333,
              "#9c179e"
             ],
             [
              0.4444444444444444,
              "#bd3786"
             ],
             [
              0.5555555555555556,
              "#d8576b"
             ],
             [
              0.6666666666666666,
              "#ed7953"
             ],
             [
              0.7777777777777778,
              "#fb9f3a"
             ],
             [
              0.8888888888888888,
              "#fdca26"
             ],
             [
              1,
              "#f0f921"
             ]
            ],
            "type": "contour"
           }
          ],
          "contourcarpet": [
           {
            "colorbar": {
             "outlinewidth": 0,
             "ticks": ""
            },
            "type": "contourcarpet"
           }
          ],
          "heatmap": [
           {
            "colorbar": {
             "outlinewidth": 0,
             "ticks": ""
            },
            "colorscale": [
             [
              0,
              "#0d0887"
             ],
             [
              0.1111111111111111,
              "#46039f"
             ],
             [
              0.2222222222222222,
              "#7201a8"
             ],
             [
              0.3333333333333333,
              "#9c179e"
             ],
             [
              0.4444444444444444,
              "#bd3786"
             ],
             [
              0.5555555555555556,
              "#d8576b"
             ],
             [
              0.6666666666666666,
              "#ed7953"
             ],
             [
              0.7777777777777778,
              "#fb9f3a"
             ],
             [
              0.8888888888888888,
              "#fdca26"
             ],
             [
              1,
              "#f0f921"
             ]
            ],
            "type": "heatmap"
           }
          ],
          "heatmapgl": [
           {
            "colorbar": {
             "outlinewidth": 0,
             "ticks": ""
            },
            "colorscale": [
             [
              0,
              "#0d0887"
             ],
             [
              0.1111111111111111,
              "#46039f"
             ],
             [
              0.2222222222222222,
              "#7201a8"
             ],
             [
              0.3333333333333333,
              "#9c179e"
             ],
             [
              0.4444444444444444,
              "#bd3786"
             ],
             [
              0.5555555555555556,
              "#d8576b"
             ],
             [
              0.6666666666666666,
              "#ed7953"
             ],
             [
              0.7777777777777778,
              "#fb9f3a"
             ],
             [
              0.8888888888888888,
              "#fdca26"
             ],
             [
              1,
              "#f0f921"
             ]
            ],
            "type": "heatmapgl"
           }
          ],
          "histogram": [
           {
            "marker": {
             "pattern": {
              "fillmode": "overlay",
              "size": 10,
              "solidity": 0.2
             }
            },
            "type": "histogram"
           }
          ],
          "histogram2d": [
           {
            "colorbar": {
             "outlinewidth": 0,
             "ticks": ""
            },
            "colorscale": [
             [
              0,
              "#0d0887"
             ],
             [
              0.1111111111111111,
              "#46039f"
             ],
             [
              0.2222222222222222,
              "#7201a8"
             ],
             [
              0.3333333333333333,
              "#9c179e"
             ],
             [
              0.4444444444444444,
              "#bd3786"
             ],
             [
              0.5555555555555556,
              "#d8576b"
             ],
             [
              0.6666666666666666,
              "#ed7953"
             ],
             [
              0.7777777777777778,
              "#fb9f3a"
             ],
             [
              0.8888888888888888,
              "#fdca26"
             ],
             [
              1,
              "#f0f921"
             ]
            ],
            "type": "histogram2d"
           }
          ],
          "histogram2dcontour": [
           {
            "colorbar": {
             "outlinewidth": 0,
             "ticks": ""
            },
            "colorscale": [
             [
              0,
              "#0d0887"
             ],
             [
              0.1111111111111111,
              "#46039f"
             ],
             [
              0.2222222222222222,
              "#7201a8"
             ],
             [
              0.3333333333333333,
              "#9c179e"
             ],
             [
              0.4444444444444444,
              "#bd3786"
             ],
             [
              0.5555555555555556,
              "#d8576b"
             ],
             [
              0.6666666666666666,
              "#ed7953"
             ],
             [
              0.7777777777777778,
              "#fb9f3a"
             ],
             [
              0.8888888888888888,
              "#fdca26"
             ],
             [
              1,
              "#f0f921"
             ]
            ],
            "type": "histogram2dcontour"
           }
          ],
          "mesh3d": [
           {
            "colorbar": {
             "outlinewidth": 0,
             "ticks": ""
            },
            "type": "mesh3d"
           }
          ],
          "parcoords": [
           {
            "line": {
             "colorbar": {
              "outlinewidth": 0,
              "ticks": ""
             }
            },
            "type": "parcoords"
           }
          ],
          "pie": [
           {
            "automargin": true,
            "type": "pie"
           }
          ],
          "scatter": [
           {
            "fillpattern": {
             "fillmode": "overlay",
             "size": 10,
             "solidity": 0.2
            },
            "type": "scatter"
           }
          ],
          "scatter3d": [
           {
            "line": {
             "colorbar": {
              "outlinewidth": 0,
              "ticks": ""
             }
            },
            "marker": {
             "colorbar": {
              "outlinewidth": 0,
              "ticks": ""
             }
            },
            "type": "scatter3d"
           }
          ],
          "scattercarpet": [
           {
            "marker": {
             "colorbar": {
              "outlinewidth": 0,
              "ticks": ""
             }
            },
            "type": "scattercarpet"
           }
          ],
          "scattergeo": [
           {
            "marker": {
             "colorbar": {
              "outlinewidth": 0,
              "ticks": ""
             }
            },
            "type": "scattergeo"
           }
          ],
          "scattergl": [
           {
            "marker": {
             "colorbar": {
              "outlinewidth": 0,
              "ticks": ""
             }
            },
            "type": "scattergl"
           }
          ],
          "scattermapbox": [
           {
            "marker": {
             "colorbar": {
              "outlinewidth": 0,
              "ticks": ""
             }
            },
            "type": "scattermapbox"
           }
          ],
          "scatterpolar": [
           {
            "marker": {
             "colorbar": {
              "outlinewidth": 0,
              "ticks": ""
             }
            },
            "type": "scatterpolar"
           }
          ],
          "scatterpolargl": [
           {
            "marker": {
             "colorbar": {
              "outlinewidth": 0,
              "ticks": ""
             }
            },
            "type": "scatterpolargl"
           }
          ],
          "scatterternary": [
           {
            "marker": {
             "colorbar": {
              "outlinewidth": 0,
              "ticks": ""
             }
            },
            "type": "scatterternary"
           }
          ],
          "surface": [
           {
            "colorbar": {
             "outlinewidth": 0,
             "ticks": ""
            },
            "colorscale": [
             [
              0,
              "#0d0887"
             ],
             [
              0.1111111111111111,
              "#46039f"
             ],
             [
              0.2222222222222222,
              "#7201a8"
             ],
             [
              0.3333333333333333,
              "#9c179e"
             ],
             [
              0.4444444444444444,
              "#bd3786"
             ],
             [
              0.5555555555555556,
              "#d8576b"
             ],
             [
              0.6666666666666666,
              "#ed7953"
             ],
             [
              0.7777777777777778,
              "#fb9f3a"
             ],
             [
              0.8888888888888888,
              "#fdca26"
             ],
             [
              1,
              "#f0f921"
             ]
            ],
            "type": "surface"
           }
          ],
          "table": [
           {
            "cells": {
             "fill": {
              "color": "#EBF0F8"
             },
             "line": {
              "color": "white"
             }
            },
            "header": {
             "fill": {
              "color": "#C8D4E3"
             },
             "line": {
              "color": "white"
             }
            },
            "type": "table"
           }
          ]
         },
         "layout": {
          "annotationdefaults": {
           "arrowcolor": "#2a3f5f",
           "arrowhead": 0,
           "arrowwidth": 1
          },
          "autotypenumbers": "strict",
          "coloraxis": {
           "colorbar": {
            "outlinewidth": 0,
            "ticks": ""
           }
          },
          "colorscale": {
           "diverging": [
            [
             0,
             "#8e0152"
            ],
            [
             0.1,
             "#c51b7d"
            ],
            [
             0.2,
             "#de77ae"
            ],
            [
             0.3,
             "#f1b6da"
            ],
            [
             0.4,
             "#fde0ef"
            ],
            [
             0.5,
             "#f7f7f7"
            ],
            [
             0.6,
             "#e6f5d0"
            ],
            [
             0.7,
             "#b8e186"
            ],
            [
             0.8,
             "#7fbc41"
            ],
            [
             0.9,
             "#4d9221"
            ],
            [
             1,
             "#276419"
            ]
           ],
           "sequential": [
            [
             0,
             "#0d0887"
            ],
            [
             0.1111111111111111,
             "#46039f"
            ],
            [
             0.2222222222222222,
             "#7201a8"
            ],
            [
             0.3333333333333333,
             "#9c179e"
            ],
            [
             0.4444444444444444,
             "#bd3786"
            ],
            [
             0.5555555555555556,
             "#d8576b"
            ],
            [
             0.6666666666666666,
             "#ed7953"
            ],
            [
             0.7777777777777778,
             "#fb9f3a"
            ],
            [
             0.8888888888888888,
             "#fdca26"
            ],
            [
             1,
             "#f0f921"
            ]
           ],
           "sequentialminus": [
            [
             0,
             "#0d0887"
            ],
            [
             0.1111111111111111,
             "#46039f"
            ],
            [
             0.2222222222222222,
             "#7201a8"
            ],
            [
             0.3333333333333333,
             "#9c179e"
            ],
            [
             0.4444444444444444,
             "#bd3786"
            ],
            [
             0.5555555555555556,
             "#d8576b"
            ],
            [
             0.6666666666666666,
             "#ed7953"
            ],
            [
             0.7777777777777778,
             "#fb9f3a"
            ],
            [
             0.8888888888888888,
             "#fdca26"
            ],
            [
             1,
             "#f0f921"
            ]
           ]
          },
          "colorway": [
           "#636efa",
           "#EF553B",
           "#00cc96",
           "#ab63fa",
           "#FFA15A",
           "#19d3f3",
           "#FF6692",
           "#B6E880",
           "#FF97FF",
           "#FECB52"
          ],
          "font": {
           "color": "#2a3f5f"
          },
          "geo": {
           "bgcolor": "white",
           "lakecolor": "white",
           "landcolor": "#E5ECF6",
           "showlakes": true,
           "showland": true,
           "subunitcolor": "white"
          },
          "hoverlabel": {
           "align": "left"
          },
          "hovermode": "closest",
          "mapbox": {
           "style": "light"
          },
          "paper_bgcolor": "white",
          "plot_bgcolor": "#E5ECF6",
          "polar": {
           "angularaxis": {
            "gridcolor": "white",
            "linecolor": "white",
            "ticks": ""
           },
           "bgcolor": "#E5ECF6",
           "radialaxis": {
            "gridcolor": "white",
            "linecolor": "white",
            "ticks": ""
           }
          },
          "scene": {
           "xaxis": {
            "backgroundcolor": "#E5ECF6",
            "gridcolor": "white",
            "gridwidth": 2,
            "linecolor": "white",
            "showbackground": true,
            "ticks": "",
            "zerolinecolor": "white"
           },
           "yaxis": {
            "backgroundcolor": "#E5ECF6",
            "gridcolor": "white",
            "gridwidth": 2,
            "linecolor": "white",
            "showbackground": true,
            "ticks": "",
            "zerolinecolor": "white"
           },
           "zaxis": {
            "backgroundcolor": "#E5ECF6",
            "gridcolor": "white",
            "gridwidth": 2,
            "linecolor": "white",
            "showbackground": true,
            "ticks": "",
            "zerolinecolor": "white"
           }
          },
          "shapedefaults": {
           "line": {
            "color": "#2a3f5f"
           }
          },
          "ternary": {
           "aaxis": {
            "gridcolor": "white",
            "linecolor": "white",
            "ticks": ""
           },
           "baxis": {
            "gridcolor": "white",
            "linecolor": "white",
            "ticks": ""
           },
           "bgcolor": "#E5ECF6",
           "caxis": {
            "gridcolor": "white",
            "linecolor": "white",
            "ticks": ""
           }
          },
          "title": {
           "x": 0.05
          },
          "xaxis": {
           "automargin": true,
           "gridcolor": "white",
           "linecolor": "white",
           "ticks": "",
           "title": {
            "standoff": 15
           },
           "zerolinecolor": "white",
           "zerolinewidth": 2
          },
          "yaxis": {
           "automargin": true,
           "gridcolor": "white",
           "linecolor": "white",
           "ticks": "",
           "title": {
            "standoff": 15
           },
           "zerolinecolor": "white",
           "zerolinewidth": 2
          }
         }
        },
        "title": {
         "text": "hourly_stock"
        },
        "xaxis": {
         "anchor": "y",
         "autorange": true,
         "domain": [
          0,
          1
         ],
         "range": [
          5,
          15
         ],
         "title": {
          "text": "hour"
         },
         "type": "linear"
        },
        "yaxis": {
         "anchor": "x",
         "autorange": true,
         "domain": [
          0,
          1
         ],
         "range": [
          194.6361111111111,
          206.51388888888889
         ],
         "showgrid": false,
         "title": {
          "text": "close"
         },
         "type": "linear"
        }
       }
      },
      "image/png": "[encoded data removed]",
      "text/html": [
       "<div>                            <div id=\"9a48be89-2fd1-4e65-aeb3-9f3c1d5098c7\" class=\"plotly-graph-div\" style=\"height:525px; width:100%;\"></div>            <script type=\"text/javascript\">                require([\"plotly\"], function(Plotly) {                    window.PLOTLYENV=window.PLOTLYENV || {};                                    if (document.getElementById(\"9a48be89-2fd1-4e65-aeb3-9f3c1d5098c7\")) {                    Plotly.newPlot(                        \"9a48be89-2fd1-4e65-aeb3-9f3c1d5098c7\",                        [{\"hovertemplate\":\"open: </b>%{customdata[0]: .2f} <br>high: </b>%{customdata[1]: .2f} <br>low: </b>%{customdata[2]: .2f} <br>volume: </b>%{customdata[3]: ,} <br><extra> TEAM </extra><extra> %{customdata[4]} </extra>\",\"legendgroup\":\"\",\"line\":{\"color\":\"#636efa\",\"dash\":\"solid\"},\"marker\":{\"symbol\":\"circle\"},\"mode\":\"lines\",\"name\":\"\",\"orientation\":\"v\",\"showlegend\":false,\"x\":[5,6,7,8,9,10,11,12,13,14,15],\"xaxis\":\"x\",\"y\":[197.0,202.745,205.73,205.92,200.93,199.46,197.42,195.23,201.5,202.0,200.0],\"yaxis\":\"y\",\"type\":\"scatter\",\"customdata\":[[197.07,197.07,197.0,1192.0,\"\"],[197.0,204.3,194.66,143064.0,\"\"],[203.17,207.94,203.0,191215.0,\"\"],[205.82,209.19,205.76,168424.0,\"#DEFI: 329, #STABLEFUND: 256, #GRAPE: 256, \"],[205.865,206.77,200.87,120220.0,\"#DRIP: 153, #GRAPE: 153, #SAFUU: 153, \"],[200.64,200.86,197.19,145734.0,\"#JOINTAKEDA: 140, #SAFUU: 140, #BATTLESTAKES: 140, \"],[199.37,199.67,197.065,152477.0,\"#DEFI: 188, #DRIP: 167, #GRAPE: 167, \"],[197.415,197.415,194.62,511097.0,\"#DEFI: 50, #GRAPE: 38, #EMP: 38, \"],[195.22,203.8466,195.22,23117.0,\"#DEFI: 81, #DRIP: 51, #STABLEFUND: 51, \"],[201.49,202.0,201.49,400.0,\"#WEB3: 30, #ETHERNITYCLOUD: 30, #CARACAS: 19, \"],[200.0,200.0,200.0,351.0,\"#ETHERNITYCLOUD: 27, #WEB3: 27, #ETNYSUPPORTER: 18, \"]]}],                        {\"template\":{\"data\":{\"histogram2dcontour\":[{\"type\":\"histogram2dcontour\",\"colorbar\":{\"outlinewidth\":0,\"ticks\":\"\"},\"colorscale\":[[0.0,\"#0d0887\"],[0.1111111111111111,\"#46039f\"],[0.2222222222222222,\"#7201a8\"],[0.3333333333333333,\"#9c179e\"],[0.4444444444444444,\"#bd3786\"],[0.5555555555555556,\"#d8576b\"],[0.6666666666666666,\"#ed7953\"],[0.7777777777777778,\"#fb9f3a\"],[0.8888888888888888,\"#fdca26\"],[1.0,\"#f0f921\"]]}],\"choropleth\":[{\"type\":\"choropleth\",\"colorbar\":{\"outlinewidth\":0,\"ticks\":\"\"}}],\"histogram2d\":[{\"type\":\"histogram2d\",\"colorbar\":{\"outlinewidth\":0,\"ticks\":\"\"},\"colorscale\":[[0.0,\"#0d0887\"],[0.1111111111111111,\"#46039f\"],[0.2222222222222222,\"#7201a8\"],[0.3333333333333333,\"#9c179e\"],[0.4444444444444444,\"#bd3786\"],[0.5555555555555556,\"#d8576b\"],[0.6666666666666666,\"#ed7953\"],[0.7777777777777778,\"#fb9f3a\"],[0.8888888888888888,\"#fdca26\"],[1.0,\"#f0f921\"]]}],\"heatmap\":[{\"type\":\"heatmap\",\"colorbar\":{\"outlinewidth\":0,\"ticks\":\"\"},\"colorscale\":[[0.0,\"#0d0887\"],[0.1111111111111111,\"#46039f\"],[0.2222222222222222,\"#7201a8\"],[0.3333333333333333,\"#9c179e\"],[0.4444444444444444,\"#bd3786\"],[0.5555555555555556,\"#d8576b\"],[0.6666666666666666,\"#ed7953\"],[0.7777777777777778,\"#fb9f3a\"],[0.8888888888888888,\"#fdca26\"],[1.0,\"#f0f921\"]]}],\"heatmapgl\":[{\"type\":\"heatmapgl\",\"colorbar\":{\"outlinewidth\":0,\"ticks\":\"\"},\"colorscale\":[[0.0,\"#0d0887\"],[0.1111111111111111,\"#46039f\"],[0.2222222222222222,\"#7201a8\"],[0.3333333333333333,\"#9c179e\"],[0.4444444444444444,\"#bd3786\"],[0.5555555555555556,\"#d8576b\"],[0.6666666666666666,\"#ed7953\"],[0.7777777777777778,\"#fb9f3a\"],[0.8888888888888888,\"#fdca26\"],[1.0,\"#f0f921\"]]}],\"contourcarpet\":[{\"type\":\"contourcarpet\",\"colorbar\":{\"outlinewidth\":0,\"ticks\":\"\"}}],\"contour\":[{\"type\":\"contour\",\"colorbar\":{\"outlinewidth\":0,\"ticks\":\"\"},\"colorscale\":[[0.0,\"#0d0887\"],[0.1111111111111111,\"#46039f\"],[0.2222222222222222,\"#7201a8\"],[0.3333333333333333,\"#9c179e\"],[0.4444444444444444,\"#bd3786\"],[0.5555555555555556,\"#d8576b\"],[0.6666666666666666,\"#ed7953\"],[0.7777777777777778,\"#fb9f3a\"],[0.8888888888888888,\"#fdca26\"],[1.0,\"#f0f921\"]]}],\"surface\":[{\"type\":\"surface\",\"colorbar\":{\"outlinewidth\":0,\"ticks\":\"\"},\"colorscale\":[[0.0,\"#0d0887\"],[0.1111111111111111,\"#46039f\"],[0.2222222222222222,\"#7201a8\"],[0.3333333333333333,\"#9c179e\"],[0.4444444444444444,\"#bd3786\"],[0.5555555555555556,\"#d8576b\"],[0.6666666666666666,\"#ed7953\"],[0.7777777777777778,\"#fb9f3a\"],[0.8888888888888888,\"#fdca26\"],[1.0,\"#f0f921\"]]}],\"mesh3d\":[{\"type\":\"mesh3d\",\"colorbar\":{\"outlinewidth\":0,\"ticks\":\"\"}}],\"scatter\":[{\"fillpattern\":{\"fillmode\":\"overlay\",\"size\":10,\"solidity\":0.2},\"type\":\"scatter\"}],\"parcoords\":[{\"type\":\"parcoords\",\"line\":{\"colorbar\":{\"outlinewidth\":0,\"ticks\":\"\"}}}],\"scatterpolargl\":[{\"type\":\"scatterpolargl\",\"marker\":{\"colorbar\":{\"outlinewidth\":0,\"ticks\":\"\"}}}],\"bar\":[{\"error_x\":{\"color\":\"#2a3f5f\"},\"error_y\":{\"color\":\"#2a3f5f\"},\"marker\":{\"line\":{\"color\":\"#E5ECF6\",\"width\":0.5},\"pattern\":{\"fillmode\":\"overlay\",\"size\":10,\"solidity\":0.2}},\"type\":\"bar\"}],\"scattergeo\":[{\"type\":\"scattergeo\",\"marker\":{\"colorbar\":{\"outlinewidth\":0,\"ticks\":\"\"}}}],\"scatterpolar\":[{\"type\":\"scatterpolar\",\"marker\":{\"colorbar\":{\"outlinewidth\":0,\"ticks\":\"\"}}}],\"histogram\":[{\"marker\":{\"pattern\":{\"fillmode\":\"overlay\",\"size\":10,\"solidity\":0.2}},\"type\":\"histogram\"}],\"scattergl\":[{\"type\":\"scattergl\",\"marker\":{\"colorbar\":{\"outlinewidth\":0,\"ticks\":\"\"}}}],\"scatter3d\":[{\"type\":\"scatter3d\",\"line\":{\"colorbar\":{\"outlinewidth\":0,\"ticks\":\"\"}},\"marker\":{\"colorbar\":{\"outlinewidth\":0,\"ticks\":\"\"}}}],\"scattermapbox\":[{\"type\":\"scattermapbox\",\"marker\":{\"colorbar\":{\"outlinewidth\":0,\"ticks\":\"\"}}}],\"scatterternary\":[{\"type\":\"scatterternary\",\"marker\":{\"colorbar\":{\"outlinewidth\":0,\"ticks\":\"\"}}}],\"scattercarpet\":[{\"type\":\"scattercarpet\",\"marker\":{\"colorbar\":{\"outlinewidth\":0,\"ticks\":\"\"}}}],\"carpet\":[{\"aaxis\":{\"endlinecolor\":\"#2a3f5f\",\"gridcolor\":\"white\",\"linecolor\":\"white\",\"minorgridcolor\":\"white\",\"startlinecolor\":\"#2a3f5f\"},\"baxis\":{\"endlinecolor\":\"#2a3f5f\",\"gridcolor\":\"white\",\"linecolor\":\"white\",\"minorgridcolor\":\"white\",\"startlinecolor\":\"#2a3f5f\"},\"type\":\"carpet\"}],\"table\":[{\"cells\":{\"fill\":{\"color\":\"#EBF0F8\"},\"line\":{\"color\":\"white\"}},\"header\":{\"fill\":{\"color\":\"#C8D4E3\"},\"line\":{\"color\":\"white\"}},\"type\":\"table\"}],\"barpolar\":[{\"marker\":{\"line\":{\"color\":\"#E5ECF6\",\"width\":0.5},\"pattern\":{\"fillmode\":\"overlay\",\"size\":10,\"solidity\":0.2}},\"type\":\"barpolar\"}],\"pie\":[{\"automargin\":true,\"type\":\"pie\"}]},\"layout\":{\"autotypenumbers\":\"strict\",\"colorway\":[\"#636efa\",\"#EF553B\",\"#00cc96\",\"#ab63fa\",\"#FFA15A\",\"#19d3f3\",\"#FF6692\",\"#B6E880\",\"#FF97FF\",\"#FECB52\"],\"font\":{\"color\":\"#2a3f5f\"},\"hovermode\":\"closest\",\"hoverlabel\":{\"align\":\"left\"},\"paper_bgcolor\":\"white\",\"plot_bgcolor\":\"#E5ECF6\",\"polar\":{\"bgcolor\":\"#E5ECF6\",\"angularaxis\":{\"gridcolor\":\"white\",\"linecolor\":\"white\",\"ticks\":\"\"},\"radialaxis\":{\"gridcolor\":\"white\",\"linecolor\":\"white\",\"ticks\":\"\"}},\"ternary\":{\"bgcolor\":\"#E5ECF6\",\"aaxis\":{\"gridcolor\":\"white\",\"linecolor\":\"white\",\"ticks\":\"\"},\"baxis\":{\"gridcolor\":\"white\",\"linecolor\":\"white\",\"ticks\":\"\"},\"caxis\":{\"gridcolor\":\"white\",\"linecolor\":\"white\",\"ticks\":\"\"}},\"coloraxis\":{\"colorbar\":{\"outlinewidth\":0,\"ticks\":\"\"}},\"colorscale\":{\"sequential\":[[0.0,\"#0d0887\"],[0.1111111111111111,\"#46039f\"],[0.2222222222222222,\"#7201a8\"],[0.3333333333333333,\"#9c179e\"],[0.4444444444444444,\"#bd3786\"],[0.5555555555555556,\"#d8576b\"],[0.6666666666666666,\"#ed7953\"],[0.7777777777777778,\"#fb9f3a\"],[0.8888888888888888,\"#fdca26\"],[1.0,\"#f0f921\"]],\"sequentialminus\":[[0.0,\"#0d0887\"],[0.1111111111111111,\"#46039f\"],[0.2222222222222222,\"#7201a8\"],[0.3333333333333333,\"#9c179e\"],[0.4444444444444444,\"#bd3786\"],[0.5555555555555556,\"#d8576b\"],[0.6666666666666666,\"#ed7953\"],[0.7777777777777778,\"#fb9f3a\"],[0.8888888888888888,\"#fdca26\"],[1.0,\"#f0f921\"]],\"diverging\":[[0,\"#8e0152\"],[0.1,\"#c51b7d\"],[0.2,\"#de77ae\"],[0.3,\"#f1b6da\"],[0.4,\"#fde0ef\"],[0.5,\"#f7f7f7\"],[0.6,\"#e6f5d0\"],[0.7,\"#b8e186\"],[0.8,\"#7fbc41\"],[0.9,\"#4d9221\"],[1,\"#276419\"]]},\"xaxis\":{\"gridcolor\":\"white\",\"linecolor\":\"white\",\"ticks\":\"\",\"title\":{\"standoff\":15},\"zerolinecolor\":\"white\",\"automargin\":true,\"zerolinewidth\":2},\"yaxis\":{\"gridcolor\":\"white\",\"linecolor\":\"white\",\"ticks\":\"\",\"title\":{\"standoff\":15},\"zerolinecolor\":\"white\",\"automargin\":true,\"zerolinewidth\":2},\"scene\":{\"xaxis\":{\"backgroundcolor\":\"#E5ECF6\",\"gridcolor\":\"white\",\"linecolor\":\"white\",\"showbackground\":true,\"ticks\":\"\",\"zerolinecolor\":\"white\",\"gridwidth\":2},\"yaxis\":{\"backgroundcolor\":\"#E5ECF6\",\"gridcolor\":\"white\",\"linecolor\":\"white\",\"showbackground\":true,\"ticks\":\"\",\"zerolinecolor\":\"white\",\"gridwidth\":2},\"zaxis\":{\"backgroundcolor\":\"#E5ECF6\",\"gridcolor\":\"white\",\"linecolor\":\"white\",\"showbackground\":true,\"ticks\":\"\",\"zerolinecolor\":\"white\",\"gridwidth\":2}},\"shapedefaults\":{\"line\":{\"color\":\"#2a3f5f\"}},\"annotationdefaults\":{\"arrowcolor\":\"#2a3f5f\",\"arrowhead\":0,\"arrowwidth\":1},\"geo\":{\"bgcolor\":\"white\",\"landcolor\":\"#E5ECF6\",\"subunitcolor\":\"white\",\"showland\":true,\"showlakes\":true,\"lakecolor\":\"white\"},\"title\":{\"x\":0.05},\"mapbox\":{\"style\":\"light\"}}},\"xaxis\":{\"anchor\":\"y\",\"domain\":[0.0,1.0],\"title\":{\"text\":\"hour\"}},\"yaxis\":{\"anchor\":\"x\",\"domain\":[0.0,1.0],\"title\":{\"text\":\"close\"},\"showgrid\":false},\"legend\":{\"tracegroupgap\":0},\"title\":{\"text\":\"hourly_stock\"},\"shapes\":[{\"line\":{\"color\":\"LightSeaGreen\",\"dash\":\"dashdot\",\"width\":2},\"type\":\"line\",\"x0\":0,\"x1\":1,\"xref\":\"paper\",\"y0\":195.22,\"y1\":195.22,\"yref\":\"y\"}]},                        {\"responsive\": true}                    ).then(function(){\n",
       "                            \n",
       "var gd = document.getElementById('9a48be89-2fd1-4e65-aeb3-9f3c1d5098c7');\n",
       "var x = new MutationObserver(function (mutations, observer) {{\n",
       "        var display = window.getComputedStyle(gd).display;\n",
       "        if (!display || display === 'none') {{\n",
       "            console.log([gd, 'removed!']);\n",
       "            Plotly.purge(gd);\n",
       "            observer.disconnect();\n",
       "        }}\n",
       "}});\n",
       "\n",
       "// Listen for the removal of the full notebook cells\n",
       "var notebookContainer = gd.closest('#notebook-container');\n",
       "if (notebookContainer) {{\n",
       "    x.observe(notebookContainer, {childList: true});\n",
       "}}\n",
       "\n",
       "// Listen for the clearing of the current output cell\n",
       "var outputEl = gd.closest('.output');\n",
       "if (outputEl) {{\n",
       "    x.observe(outputEl, {childList: true});\n",
       "}}\n",
       "\n",
       "                        })                };                });            </script>        </div>"
      ]
     },
     "metadata": {},
     "output_type": "display_data"
    }
   ],
   "source": [
    "daily_close = spark.sql(f\"SELECT close from monthly where day = {stock_day} and month = {stock_month} and ticker = '{stock_ticker}' \").first()['close']\n",
    "\n",
    "customdata  = np.stack((current_stock['open'], current_stock['high'], current_stock['low'], current_stock['volume'], current_stock['times']), axis=-1)\n",
    "fig = px.line(data_frame=current_stock,x='hour', y='close',title='hourly_stock',template='plotly')\n",
    "fig.update_layout(shapes=[\n",
    "    # adds line at y=5\n",
    "    dict(\n",
    "      type= 'line',\n",
    "      xref= 'paper', x0=0, x1=1,\n",
    "      yref= 'y', y0= daily_close, y1= daily_close,\n",
    "      line=dict(\n",
    "        color=\"LightSeaGreen\",\n",
    "        width=2,\n",
    "        dash=\"dashdot\",\n",
    "    )\n",
    "    )\n",
    "])\n",
    "\n",
    "fig.update_traces(customdata = customdata, hovertemplate=\n",
    "                                                                                'open: </b>%{customdata[0]: .2f} <br>' + \\\n",
    "                                                                                'high: </b>%{customdata[1]: .2f} <br>' + \\\n",
    "                                                                                'low: </b>%{customdata[2]: .2f} <br>' + \\\n",
    "                                                                                'volume: </b>%{customdata[3]: ,} <br>'+ \\\n",
    "                                                                                 f\"<extra> {stock_ticker} </extra>\"+ \\\n",
    "                                                                                 '<extra> %{customdata[4]} </extra>' \n",
    "                  \n",
    "                 )\n",
    "fig.update_layout(yaxis=dict(showgrid=False))\n",
    "\n",
    "fig.show()"
   ]
  }
 ],
 "metadata": {
  "kernelspec": {
   "display_name": "Python 3 (ipykernel)",
   "language": "python",
   "name": "python3"
  },
  "language_info": {
   "codemirror_mode": {
    "name": "ipython",
    "version": 3
   },
   "file_extension": ".py",
   "mimetype": "text/x-python",
   "name": "python",
   "nbconvert_exporter": "python",
   "pygments_lexer": "ipython3",
   "version": "3.10.6"
  }
 },
 "nbformat": 4,
 "nbformat_minor": 5
}
